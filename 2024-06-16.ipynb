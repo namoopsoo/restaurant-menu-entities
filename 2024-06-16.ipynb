{
 "cells": [
  {
   "cell_type": "markdown",
   "id": "5b1b4989-277e-4b9a-a4c7-6ba66771b270",
   "metadata": {},
   "source": [
    "## mini func, check if a query is on topic or off topic , first"
   ]
  },
  {
   "cell_type": "code",
   "execution_count": 1,
   "id": "d213f495-8abe-4eaa-8409-ea3e79bf7255",
   "metadata": {},
   "outputs": [
    {
     "name": "stdout",
     "output_type": "stream",
     "text": [
      "\n",
      "query I'm looking for good wings near me\n",
      "{'sequence': \"I'm looking for good wings near me\", 'labels': ['food places', 'this is about food places', 'this is about food', 'this is about a restaurant', 'food', 'restaurants'], 'scores': [0.9868150949478149, 0.984097421169281, 0.9606814384460449, 0.8281988501548767, 0.7463715672492981, 0.5991970300674438]}\n",
      "\n",
      "query What is a good chicken wings place near me?\n",
      "{'sequence': 'What is a good chicken wings place near me?', 'labels': ['food', 'food places', 'this is about food', 'this is about food places', 'this is about a restaurant', 'restaurants'], 'scores': [0.9929962158203125, 0.9925386309623718, 0.991735577583313, 0.9857849478721619, 0.9375878572463989, 0.9168540835380554]}\n",
      "\n",
      "query Are there any good pasta places around here?\n",
      "{'sequence': 'Are there any good pasta places around here?', 'labels': ['food places', 'this is about food', 'food', 'this is about food places', 'this is about a restaurant', 'restaurants'], 'scores': [0.9887880682945251, 0.9881364703178406, 0.9875245690345764, 0.9853124618530273, 0.81657475233078, 0.695604681968689]}\n",
      "\n",
      "query What is a good italian place nearby?\n",
      "{'sequence': 'What is a good italian place nearby?', 'labels': ['this is about food', 'food places', 'this is about food places', 'food', 'this is about a restaurant', 'restaurants'], 'scores': [0.9897514581680298, 0.9895842671394348, 0.9839956760406494, 0.9764175415039062, 0.9479529857635498, 0.9041155576705933]}\n",
      "\n",
      "query What is a decent burger spot here?\n",
      "{'sequence': 'What is a decent burger spot here?', 'labels': ['food places', 'food', 'this is about food', 'this is about food places', 'this is about a restaurant', 'restaurants'], 'scores': [0.9959198236465454, 0.9925549626350403, 0.9921599626541138, 0.9869840741157532, 0.8683270812034607, 0.7085756063461304]}\n",
      "\n",
      "query Are there some decent fast food spots nearby?\n",
      "{'sequence': 'Are there some decent fast food spots nearby?', 'labels': ['this is about food', 'food places', 'this is about food places', 'food', 'restaurants', 'this is about a restaurant'], 'scores': [0.97259920835495, 0.9641566276550293, 0.9544232487678528, 0.9524098634719849, 0.5524296164512634, 0.06884073466062546]}\n",
      "\n",
      "query What is a good noodle place in town?\n",
      "{'sequence': 'What is a good noodle place in town?', 'labels': ['this is about food', 'food places', 'this is about food places', 'food', 'this is about a restaurant', 'restaurants'], 'scores': [0.9946930408477783, 0.9917978048324585, 0.9895104169845581, 0.9882515668869019, 0.8941181302070618, 0.696493923664093]}\n"
     ]
    }
   ],
   "source": [
    "from transformers import pipeline, BertTokenizer, BertModel\n",
    "import torch\n",
    "\n",
    "# Load Hugging Face pipeline for zero-shot classification\n",
    "classifier = pipeline(\"zero-shot-classification\", model=\"facebook/bart-large-mnli\")\n",
    "\n",
    "def check_if_on_topic(query, topics):\n",
    "    \n",
    "    classification = classifier(query, topics, multi_label=True)\n",
    "    return classification\n",
    "\n",
    "\n",
    "\n",
    "queries = [\n",
    "    \"I'm looking for good wings near me\",\n",
    "    \"What is a good chicken wings place near me?\",\n",
    "    \"Are there any good pasta places around here?\",\n",
    "    \"What is a good italian place nearby?\",\n",
    "    \"What is a decent burger spot here?\",\n",
    "    \"Are there some decent fast food spots nearby?\",\n",
    "    \"What is a good noodle place in town?\",\n",
    "]\n",
    "topics = [\n",
    "    \"this is about food\",\n",
    "    \"food\",\n",
    "    \"this is about a restaurant\",\n",
    "    \"restaurants\",\n",
    "    \"food places\",\n",
    "    \"this is about food places\",\n",
    "]\n",
    "for query in queries:\n",
    "    classification = check_if_on_topic(query, topics)\n",
    "    print(\"\")\n",
    "    print(\"query\", query)\n",
    "    print(classification)\n"
   ]
  },
  {
   "cell_type": "markdown",
   "id": "4bdf372a-a622-4506-bdfd-f182d511ddc1",
   "metadata": {},
   "source": [
    "Ok wow, kind of like I recall reading about Zero Shot learning recently, using BART , seems the one-word MNLI use is not so great, also for this super limited example here.\n",
    "\n",
    "\n",
    "Let's mix in also some counter cases too? "
   ]
  },
  {
   "cell_type": "code",
   "execution_count": 5,
   "id": "45619d3c-9135-41df-b4d8-c9f9af530b4c",
   "metadata": {},
   "outputs": [
    {
     "data": {
      "text/plain": [
       "5.554864883422852"
      ]
     },
     "execution_count": 5,
     "metadata": {},
     "output_type": "execute_result"
    }
   ],
   "source": [
    "sum(classification[\"scores\"])"
   ]
  },
  {
   "cell_type": "code",
   "execution_count": 6,
   "id": "c08f92ca-6e0c-4dce-be9e-4f2ffca116f2",
   "metadata": {},
   "outputs": [
    {
     "data": {
      "text/plain": [
       "[['I am looking for medical help',\n",
       "  8.088221087139875e-05,\n",
       "  0,\n",
       "  8.088221087139875e-05],\n",
       " ['I am looking for a good museum for art history',\n",
       "  9.62637289679454e-05,\n",
       "  0,\n",
       "  9.62637289679454e-05],\n",
       " ['I want to learn about painting',\n",
       "  0.00011275537811646548,\n",
       "  0,\n",
       "  0.00011275537811646548],\n",
       " ['I want to go somewhere and play soccer.',\n",
       "  0.00011537025845124542,\n",
       "  0,\n",
       "  0.00011537025845124542],\n",
       " ['Where is a good place to do my taxes?',\n",
       "  0.00014225074361699322,\n",
       "  0,\n",
       "  0.00014225074361699322],\n",
       " ['Any good bowling alleys nearby?',\n",
       "  0.0001614166055029879,\n",
       "  0,\n",
       "  0.0001614166055029879],\n",
       " ['Where is a good public school for my kids?',\n",
       "  0.00023048519263587272,\n",
       "  0,\n",
       "  0.00023048519263587272],\n",
       " ['What is a good activity as a tourist to do some sight seeing maybe?',\n",
       "  0.0002453784157599633,\n",
       "  0,\n",
       "  0.0002453784157599633],\n",
       " ['What are good movies to see these days?',\n",
       "  0.0025914414545695763,\n",
       "  0,\n",
       "  0.0025914414545695763],\n",
       " ['What is a good chicken wings place near me?',\n",
       "  0.9695828855037689,\n",
       "  1,\n",
       "  0.03041711449623108],\n",
       " ['What is a good italian place nearby?',\n",
       "  0.9653029143810272,\n",
       "  1,\n",
       "  0.03469708561897278],\n",
       " ['What is a good noodle place in town?',\n",
       "  0.9258108139038086,\n",
       "  1,\n",
       "  0.0741891860961914],\n",
       " ['What is a decent burger spot here?',\n",
       "  0.9240869184335073,\n",
       "  1,\n",
       "  0.07591308156649268],\n",
       " ['Are there any good pasta places around here?',\n",
       "  0.9103235006332397,\n",
       "  1,\n",
       "  0.08967649936676025],\n",
       " ['Ok any chicken wings places in the area?',\n",
       "  0.9090869526068369,\n",
       "  1,\n",
       "  0.09091304739316308],\n",
       " ['I am hungry where can I go? Hungry for japanese food.',\n",
       "  0.9055028756459554,\n",
       "  1,\n",
       "  0.09449712435404456],\n",
       " [\"I'm looking for good wings near me\",\n",
       "  0.8508935670057932,\n",
       "  1,\n",
       "  0.14910643299420678],\n",
       " ['I am in the mood for some ramen, any nearby?',\n",
       "  0.848459447423617,\n",
       "  1,\n",
       "  0.151540552576383],\n",
       " ['Are there some decent fast food spots nearby?',\n",
       "  0.7441432165602843,\n",
       "  1,\n",
       "  0.25585678343971574],\n",
       " ['I want to eat some yummy tacoes with a small group of people. ',\n",
       "  0.7101784072195491,\n",
       "  1,\n",
       "  0.28982159278045094],\n",
       " ['What is a good meat place like for smoked meat?',\n",
       "  0.6372983492910862,\n",
       "  1,\n",
       "  0.3627016507089138]]"
      ]
     },
     "execution_count": 6,
     "metadata": {},
     "output_type": "execute_result"
    }
   ],
   "source": [
    "\n",
    "\n",
    "queries = [\n",
    "    [\"I'm looking for good wings near me\", 1],\n",
    "    [\"What is a good chicken wings place near me?\", 1],\n",
    "    [\"Are there any good pasta places around here?\", 1],\n",
    "    [\"What is a good italian place nearby?\", 1],\n",
    "    [\"What is a decent burger spot here?\", 1],\n",
    "    [\"Are there some decent fast food spots nearby?\", 1],\n",
    "    [\"What is a good noodle place in town?\", 1],\n",
    "    [\"I am looking for medical help\", 0],\n",
    "    [\"I want to learn about painting\", 0],\n",
    "    [\"Where is a good place to do my taxes?\", 0],\n",
    "    [\"I want to go somewhere and play soccer.\", 0],\n",
    "    [\"Where is a good public school for my kids?\", 0],\n",
    "    [\"What are good movies to see these days?\", 0],\n",
    "    [\"Any good bowling alleys nearby?\", 0],\n",
    "    [\"What is a good activity as a tourist to do some sight seeing maybe?\", 0],\n",
    "    [\"I am looking for a good museum for art history\", 0],\n",
    "    [\"I am hungry where can I go? Hungry for japanese food.\", 1],\n",
    "    [\"I want to eat some yummy tacoes with a small group of people. \", 1],\n",
    "    [\"Ok any chicken wings places in the area?\", 1],\n",
    "    [\"What is a good meat place like for smoked meat?\", 1],\n",
    "    [\"I am in the mood for some ramen, any nearby?\", 1],\n",
    "]\n",
    "topics = [\n",
    "    \"this is about food\",\n",
    "    \"food\",\n",
    "    \"this is about a restaurant\",\n",
    "    \"restaurants\",\n",
    "    \"food places\",\n",
    "    \"this is about food places\",\n",
    "]\n",
    "\n",
    "scores = []\n",
    "\n",
    "len_food_topics = len(topics)\n",
    "for query, food_true in queries:\n",
    "    classification = check_if_on_topic(query, topics)\n",
    "\n",
    "    food_pred = sum(classification[\"scores\"]) / len_food_topics\n",
    "    scores.append([query, food_pred, food_true, abs(food_true - food_pred)])\n",
    "\n",
    "sorted(scores, key=lambda x:x[-1])\n",
    "\n",
    "\n"
   ]
  },
  {
   "cell_type": "code",
   "execution_count": 7,
   "id": "a9039e33-96dd-41c9-872c-0765a90f4f0b",
   "metadata": {},
   "outputs": [
    {
     "name": "stdout",
     "output_type": "stream",
     "text": [
      "I am looking for medical help: delta: 0.00 (actual: 0.00, true: 0.00)\n",
      "I am looking for a good museum for art history: delta: 0.00 (actual: 0.00, true: 0.00)\n",
      "I want to learn about painting: delta: 0.00 (actual: 0.00, true: 0.00)\n",
      "I want to go somewhere and play soccer.: delta: 0.00 (actual: 0.00, true: 0.00)\n",
      "Where is a good place to do my taxes?: delta: 0.00 (actual: 0.00, true: 0.00)\n",
      "Any good bowling alleys nearby?: delta: 0.00 (actual: 0.00, true: 0.00)\n",
      "Where is a good public school for my kids?: delta: 0.00 (actual: 0.00, true: 0.00)\n",
      "What is a good activity as a tourist to do some sight seeing maybe?: delta: 0.00 (actual: 0.00, true: 0.00)\n",
      "What are good movies to see these days?: delta: 0.00 (actual: 0.00, true: 0.00)\n",
      "What is a good chicken wings place near me?: delta: 0.03 (actual: 0.97, true: 1.00)\n",
      "What is a good italian place nearby?: delta: 0.03 (actual: 0.97, true: 1.00)\n",
      "What is a good noodle place in town?: delta: 0.07 (actual: 0.93, true: 1.00)\n",
      "What is a decent burger spot here?: delta: 0.08 (actual: 0.92, true: 1.00)\n",
      "Are there any good pasta places around here?: delta: 0.09 (actual: 0.91, true: 1.00)\n",
      "Ok any chicken wings places in the area?: delta: 0.09 (actual: 0.91, true: 1.00)\n",
      "I am hungry where can I go? Hungry for japanese food.: delta: 0.09 (actual: 0.91, true: 1.00)\n",
      "I'm looking for good wings near me: delta: 0.15 (actual: 0.85, true: 1.00)\n",
      "I am in the mood for some ramen, any nearby?: delta: 0.15 (actual: 0.85, true: 1.00)\n",
      "Are there some decent fast food spots nearby?: delta: 0.26 (actual: 0.74, true: 1.00)\n",
      "I want to eat some yummy tacoes with a small group of people. : delta: 0.29 (actual: 0.71, true: 1.00)\n",
      "What is a good meat place like for smoked meat?: delta: 0.36 (actual: 0.64, true: 1.00)\n"
     ]
    }
   ],
   "source": [
    "for row in sorted(scores, key=lambda x:x[-1]):\n",
    "    print(f\"{row[0]}: delta: {row[-1]:.2f} (actual: {row[1]:.2f}, true: {row[2]:.2f})\")\n"
   ]
  },
  {
   "cell_type": "markdown",
   "id": "1c9c7aa7-e9f7-4d61-bf41-7bcfc2540f6e",
   "metadata": {},
   "source": [
    "## ok that is not that bad \n",
    "maybe should look at more data, but that's looking pretty decent for a first stab with how well BART is doing here "
   ]
  },
  {
   "cell_type": "code",
   "execution_count": null,
   "id": "ca5aebcb-4351-4d6c-9f21-778e5d161621",
   "metadata": {},
   "outputs": [],
   "source": []
  }
 ],
 "metadata": {
  "kernelspec": {
   "display_name": "Python 3 (ipykernel)",
   "language": "python",
   "name": "python3"
  },
  "language_info": {
   "codemirror_mode": {
    "name": "ipython",
    "version": 3
   },
   "file_extension": ".py",
   "mimetype": "text/x-python",
   "name": "python",
   "nbconvert_exporter": "python",
   "pygments_lexer": "ipython3",
   "version": "3.10.0"
  }
 },
 "nbformat": 4,
 "nbformat_minor": 5
}
