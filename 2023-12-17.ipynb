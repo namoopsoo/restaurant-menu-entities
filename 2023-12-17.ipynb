{
 "cells": [
  {
   "cell_type": "markdown",
   "id": "3a42ce2b-afa9-435f-a3b2-8a5c6c12918b",
   "metadata": {},
   "source": [
    "\n",
    "So last time in file:///Users/michal/Dropbox/Code/repo/restaurant-menu-entities/2023-12-03-menu-entities.html , we looked at paraphrase mining only on a 1000-samples from the full 403,240 set. \n",
    "\n",
    "Also lets look at the other dataset here, https://www.kaggle.com/datasets/prashant111/discover-the-menu , maybe there are more dishes in there as opposed to the Kaggle Uber Eats dataset, which had a lot of non food items in there. "
   ]
  },
  {
   "cell_type": "code",
   "execution_count": 56,
   "id": "63eab0af-a867-4042-9e61-b07438fb11cd",
   "metadata": {},
   "outputs": [],
   "source": [
    "import pandas as pd\n",
    "import json\n",
    "from pathlib import Path\n",
    "from dotenv import dotenv_values\n",
    "import matplotlib.pyplot as plt\n",
    "\n",
    "from sentence_transformers import SentenceTransformer, util\n",
    "from sentence_transformers.util import semantic_search, cos_sim\n",
    "import torch\n",
    "\n",
    "DATA_DIR = dotenv_values()[\"DATA_DIR\"]\n",
    "HF_TOKEN = dotenv_values()[\"HF_TOKEN\"]\n",
    "\n",
    "dishdf = pd.read_csv(Path(DATA_DIR) / \"kaggle-discover-the-menu/archive/dish.csv\")\n",
    "menuitemdf = pd.read_csv(Path(DATA_DIR) / \"kaggle-discover-the-menu/archive/menuitem.csv\")\n",
    "menudf = pd.read_csv(Path(DATA_DIR) / \"kaggle-discover-the-menu/archive/menu.csv\")\n",
    "menupagedf = pd.read_csv(Path(DATA_DIR) / \"kaggle-discover-the-menu/archive/menupage.csv\")\n",
    "metadata = json.loads((Path(DATA_DIR) / \"kaggle-discover-the-menu/archive/datapackage.json\").read_text())"
   ]
  },
  {
   "cell_type": "code",
   "execution_count": 7,
   "id": "4a3e3a1a-44e2-4227-8021-279a1717ae81",
   "metadata": {},
   "outputs": [
    {
     "data": {
      "text/plain": [
       "{'name': 'data-society_discover-the-menu',\n",
       " 'title': 'Discover The Menu',\n",
       " 'description': \"Data includes 45,000 menus from the 1840s to the present.\\n\\n## Data generated through NYPL's crowdsourcing project *What's on the menu?*\\n\\nHere you will find The New York Public Library's transcribed historical restaurant menus, dish by dish, so that they can be searched by what people were eating back in the day. With approximately 45,000 menus dating from the 1840s to the present, The New York Public Library’s restaurant menu collection is one of the largest in the world, used by historians, chefs, novelists and everyday food enthusiasts. \\n\\nThe New York Public Library’s menu collection, housed in the Rare Book Division, originated through the energetic efforts of Miss Frank E. Buttolph (1850-1924), who, in 1900, began to collect menus on the Library's behalf. Miss Buttolph added more than 25,000 menus to the collection, before leaving the Library in 1924. The collection has continued to grow through additional gifts of graphic, gastronomic, topical, or sociological interest, especially but not exclusively New York-related. The collection now contains approximately 45,000 items, about quarter of which have so far been digitized and made available in the [NYPL Digital Gallery](https://digitalcollections.nypl.org/collections/the-buttolph-collection-of-menus#/?tab=about).\\n\\nThe Rare Books Division of The New York Public Library houses approximately 200,000 titles, covering five centuries of printing—from the 1450s to the present—and representing Continental Europe, England, and the Americas.\\n\\nThere's a lot of data behind What's on the Menu?: a mix of simple bibliographic description of the menus (created by The New York Public Library) and the culinary and economic content of the menus themselves (transcribed by volunteers).\\n\\nFor more information about each file, check the ```readme.txt```.\\n\\n__These data are updated on the 1st and 16th of every month.__\\n\\n## License\\n\\n> No known copyright restrictions on this material. We ask that you credit The New York Public Library as source on any applications or publications.\\n\\n__*Source:*__ http://menus.nypl.org/data\",\n",
       " 'homepage': 'https://data.world/data-society/discover-the-menu',\n",
       " 'license': 'Other',\n",
       " 'resources': [{'name': 'dish',\n",
       "   'schema': {'fields': [{'name': 'id',\n",
       "      'title': 'id',\n",
       "      'description': 'a unique identifier for this dish',\n",
       "      'type': 'integer',\n",
       "      'rdfType': 'http://www.w3.org/2001/XMLSchema#integer',\n",
       "      'dwSourceId': 'id'},\n",
       "     {'name': 'name',\n",
       "      'title': 'name',\n",
       "      'description': 'the name of this dish',\n",
       "      'type': 'string',\n",
       "      'rdfType': 'http://www.w3.org/2001/XMLSchema#string',\n",
       "      'dwSourceId': 'name'},\n",
       "     {'name': 'description',\n",
       "      'title': 'description',\n",
       "      'description': 'a description of this dish; always blank as of 2016-11-01 release',\n",
       "      'type': 'string',\n",
       "      'rdfType': 'http://www.w3.org/2001/XMLSchema#string',\n",
       "      'dwSourceId': 'description'},\n",
       "     {'name': 'menus_appeared',\n",
       "      'title': 'menus_appeared',\n",
       "      'description': 'the number of menus this dish appears on',\n",
       "      'type': 'integer',\n",
       "      'rdfType': 'http://www.w3.org/2001/XMLSchema#integer',\n",
       "      'dwSourceId': 'menus_appeared'},\n",
       "     {'name': 'times_appeared',\n",
       "      'title': 'times_appeared',\n",
       "      'description': 'the number of times this dish appears (seems to be in case the dish appears multiple times or in multiple sections on a given menu)',\n",
       "      'type': 'integer',\n",
       "      'rdfType': 'http://www.w3.org/2001/XMLSchema#integer',\n",
       "      'dwSourceId': 'times_appeared'},\n",
       "     {'name': 'first_appeared',\n",
       "      'title': 'first_appeared',\n",
       "      'description': 'the year this dish first appeared; sometimes 0 or 1, which should probably be treated as errors or NA',\n",
       "      'type': 'integer',\n",
       "      'rdfType': 'http://www.w3.org/2001/XMLSchema#integer',\n",
       "      'dwSourceId': 'first_appeared'},\n",
       "     {'name': 'last_appeared',\n",
       "      'title': 'last_appeared',\n",
       "      'description': 'the year this dish last appeared; sometimes 2928, 0, or 1, which should probably be treated as errors or NA',\n",
       "      'type': 'integer',\n",
       "      'rdfType': 'http://www.w3.org/2001/XMLSchema#integer',\n",
       "      'dwSourceId': 'last_appeared'},\n",
       "     {'name': 'lowest_price',\n",
       "      'title': 'lowest_price',\n",
       "      'description': 'the lowest price that this item was sold for',\n",
       "      'type': 'number',\n",
       "      'rdfType': 'http://www.w3.org/2001/XMLSchema#decimal',\n",
       "      'dwSourceId': 'lowest_price'},\n",
       "     {'name': 'highest_price',\n",
       "      'title': 'highest_price',\n",
       "      'description': 'the highest price that this item was sold for',\n",
       "      'type': 'number',\n",
       "      'rdfType': 'http://www.w3.org/2001/XMLSchema#decimal',\n",
       "      'dwSourceId': 'highest_price'}]},\n",
       "   'path': 'data/dish.csv',\n",
       "   'format': 'csv'},\n",
       "  {'name': 'menu',\n",
       "   'schema': {'fields': [{'name': 'id',\n",
       "      'title': 'id',\n",
       "      'description': 'a unique identifier for this menu',\n",
       "      'type': 'integer',\n",
       "      'rdfType': 'http://www.w3.org/2001/XMLSchema#integer',\n",
       "      'dwSourceId': 'id'},\n",
       "     {'name': 'name',\n",
       "      'title': 'name',\n",
       "      'description': 'a name for this menu (often blank, or the name of the restaurant)',\n",
       "      'type': 'string',\n",
       "      'rdfType': 'http://www.w3.org/2001/XMLSchema#string',\n",
       "      'dwSourceId': 'name'},\n",
       "     {'name': 'sponsor',\n",
       "      'title': 'sponsor',\n",
       "      'description': 'the sponsor of this menu (often the name of the restaurant)',\n",
       "      'type': 'string',\n",
       "      'rdfType': 'http://www.w3.org/2001/XMLSchema#string',\n",
       "      'dwSourceId': 'sponsor'},\n",
       "     {'name': 'event',\n",
       "      'title': 'event',\n",
       "      'description': 'the event this menu was created for (typically the name of the meal, or the special event that this menu was created for)',\n",
       "      'type': 'string',\n",
       "      'rdfType': 'http://www.w3.org/2001/XMLSchema#string',\n",
       "      'dwSourceId': 'event'},\n",
       "     {'name': 'venue',\n",
       "      'title': 'venue',\n",
       "      'description': 'the venue where food from this menu was served',\n",
       "      'type': 'string',\n",
       "      'rdfType': 'http://www.w3.org/2001/XMLSchema#string',\n",
       "      'dwSourceId': 'venue'},\n",
       "     {'name': 'place',\n",
       "      'title': 'place',\n",
       "      'description': \"geographical description of the menu's location; often includes city/state/country, street address, or name of venue\",\n",
       "      'type': 'string',\n",
       "      'rdfType': 'http://www.w3.org/2001/XMLSchema#string',\n",
       "      'dwSourceId': 'place'},\n",
       "     {'name': 'physical_description',\n",
       "      'title': 'physical_description',\n",
       "      'description': \"a description of the menu's physical characteristics, including paper stock, dimensions, colors, design, etc.\",\n",
       "      'type': 'string',\n",
       "      'rdfType': 'http://www.w3.org/2001/XMLSchema#string',\n",
       "      'dwSourceId': 'physical_description'},\n",
       "     {'name': 'occasion',\n",
       "      'title': 'occasion',\n",
       "      'description': 'a special occasion, holiday, daily, or blank',\n",
       "      'type': 'string',\n",
       "      'rdfType': 'http://www.w3.org/2001/XMLSchema#string',\n",
       "      'dwSourceId': 'occasion'},\n",
       "     {'name': 'notes',\n",
       "      'title': 'notes',\n",
       "      'description': 'any special notes about this menu',\n",
       "      'type': 'string',\n",
       "      'rdfType': 'http://www.w3.org/2001/XMLSchema#string',\n",
       "      'dwSourceId': 'notes'},\n",
       "     {'name': 'call_number',\n",
       "      'title': 'call_number',\n",
       "      'description': \"the menu's call number within the NYPL collection\",\n",
       "      'type': 'string',\n",
       "      'rdfType': 'http://www.w3.org/2001/XMLSchema#string',\n",
       "      'dwSourceId': 'call_number'},\n",
       "     {'name': 'keywords',\n",
       "      'title': 'keywords',\n",
       "      'description': 'keywords for the menu; always blank as of 2016-11-01 release',\n",
       "      'type': 'string',\n",
       "      'rdfType': 'http://www.w3.org/2001/XMLSchema#string',\n",
       "      'dwSourceId': 'keywords'},\n",
       "     {'name': 'language',\n",
       "      'title': 'language',\n",
       "      'description': 'language the menu is printed in; always blank as of 2016-11-01 release',\n",
       "      'type': 'string',\n",
       "      'rdfType': 'http://www.w3.org/2001/XMLSchema#string',\n",
       "      'dwSourceId': 'language'},\n",
       "     {'name': 'date',\n",
       "      'title': 'date',\n",
       "      'description': 'date the menu was collected, as a string with the format YYYY-MM-DD',\n",
       "      'type': 'date',\n",
       "      'rdfType': 'http://www.w3.org/2001/XMLSchema#date',\n",
       "      'dwSourceId': 'date'},\n",
       "     {'name': 'location',\n",
       "      'title': 'location',\n",
       "      'description': 'location where the menu was used',\n",
       "      'type': 'string',\n",
       "      'rdfType': 'http://www.w3.org/2001/XMLSchema#string',\n",
       "      'dwSourceId': 'location'},\n",
       "     {'name': 'location_type',\n",
       "      'title': 'location_type',\n",
       "      'description': 'type of the location value; always blank as of 2016-11-01 release',\n",
       "      'type': 'string',\n",
       "      'rdfType': 'http://www.w3.org/2001/XMLSchema#string',\n",
       "      'dwSourceId': 'location_type'},\n",
       "     {'name': 'currency',\n",
       "      'title': 'currency',\n",
       "      'description': 'currency (possibly obsolete) charged for items on this menu',\n",
       "      'type': 'string',\n",
       "      'rdfType': 'http://www.w3.org/2001/XMLSchema#string',\n",
       "      'dwSourceId': 'currency'},\n",
       "     {'name': 'currency_symbol',\n",
       "      'title': 'currency_symbol',\n",
       "      'description': 'symbol for the currency',\n",
       "      'type': 'string',\n",
       "      'rdfType': 'http://www.w3.org/2001/XMLSchema#string',\n",
       "      'dwSourceId': 'currency_symbol'},\n",
       "     {'name': 'status',\n",
       "      'title': 'status',\n",
       "      'description': 'the digitization/transcription status of this menu; one of \"complete\" or \"under review\"',\n",
       "      'type': 'string',\n",
       "      'rdfType': 'http://www.w3.org/2001/XMLSchema#string',\n",
       "      'dwSourceId': 'status'},\n",
       "     {'name': 'page_count',\n",
       "      'title': 'page_count',\n",
       "      'description': 'number of pages in this menu',\n",
       "      'type': 'integer',\n",
       "      'rdfType': 'http://www.w3.org/2001/XMLSchema#integer',\n",
       "      'dwSourceId': 'page_count'},\n",
       "     {'name': 'dish_count',\n",
       "      'title': 'dish_count',\n",
       "      'description': 'number of dishes on this menu',\n",
       "      'type': 'integer',\n",
       "      'rdfType': 'http://www.w3.org/2001/XMLSchema#integer',\n",
       "      'dwSourceId': 'dish_count'}]},\n",
       "   'path': 'data/menu.csv',\n",
       "   'format': 'csv'},\n",
       "  {'name': 'menuitem',\n",
       "   'schema': {'fields': [{'name': 'id',\n",
       "      'title': 'id',\n",
       "      'description': 'a unique identifier for this menu item',\n",
       "      'type': 'integer',\n",
       "      'rdfType': 'http://www.w3.org/2001/XMLSchema#integer',\n",
       "      'dwSourceId': 'id'},\n",
       "     {'name': 'menu_page_id',\n",
       "      'title': 'menu_page_id',\n",
       "      'description': 'the id of the menu page that this item appears (see Cross-table reference notes)',\n",
       "      'type': 'integer',\n",
       "      'rdfType': 'http://www.w3.org/2001/XMLSchema#integer',\n",
       "      'dwSourceId': 'menu_page_id'},\n",
       "     {'name': 'price',\n",
       "      'title': 'price',\n",
       "      'description': 'the price of (the smallest portion of) this item',\n",
       "      'type': 'number',\n",
       "      'rdfType': 'http://www.w3.org/2001/XMLSchema#decimal',\n",
       "      'dwSourceId': 'price'},\n",
       "     {'name': 'high_price',\n",
       "      'title': 'high_price',\n",
       "      'description': 'the price of the largest portion of this item',\n",
       "      'type': 'number',\n",
       "      'rdfType': 'http://www.w3.org/2001/XMLSchema#decimal',\n",
       "      'dwSourceId': 'high_price'},\n",
       "     {'name': 'dish_id',\n",
       "      'title': 'dish_id',\n",
       "      'description': 'the id of the dish that this menu item refers to (see Cross-table reference notes)',\n",
       "      'type': 'integer',\n",
       "      'rdfType': 'http://www.w3.org/2001/XMLSchema#integer',\n",
       "      'dwSourceId': 'dish_id'},\n",
       "     {'name': 'created_at',\n",
       "      'title': 'created_at',\n",
       "      'description': 'the date and time that this database entry was created',\n",
       "      'type': 'string',\n",
       "      'rdfType': 'http://www.w3.org/2001/XMLSchema#string',\n",
       "      'dwSourceId': 'created_at'},\n",
       "     {'name': 'updated_at',\n",
       "      'title': 'updated_at',\n",
       "      'description': 'the most recent date that this database entry was updated',\n",
       "      'type': 'string',\n",
       "      'rdfType': 'http://www.w3.org/2001/XMLSchema#string',\n",
       "      'dwSourceId': 'updated_at'},\n",
       "     {'name': 'xpos',\n",
       "      'title': 'xpos',\n",
       "      'description': 'the x-axis position of the item on the scanned image',\n",
       "      'type': 'number',\n",
       "      'rdfType': 'http://www.w3.org/2001/XMLSchema#decimal',\n",
       "      'dwSourceId': 'xpos'},\n",
       "     {'name': 'ypos',\n",
       "      'title': 'ypos',\n",
       "      'description': 'the y-axis position of the item on the scanned image',\n",
       "      'type': 'number',\n",
       "      'rdfType': 'http://www.w3.org/2001/XMLSchema#decimal',\n",
       "      'dwSourceId': 'ypos'}]},\n",
       "   'path': 'data/menuitem.csv',\n",
       "   'format': 'csv'},\n",
       "  {'name': 'menupage',\n",
       "   'schema': {'fields': [{'name': 'id',\n",
       "      'title': 'id',\n",
       "      'description': 'a unique identifier for this menu page',\n",
       "      'type': 'integer',\n",
       "      'rdfType': 'http://www.w3.org/2001/XMLSchema#integer',\n",
       "      'dwSourceId': 'id'},\n",
       "     {'name': 'menu_id',\n",
       "      'title': 'menu_id',\n",
       "      'description': 'the id of the menu this page belongs to (see Cross-table reference notes)',\n",
       "      'type': 'integer',\n",
       "      'rdfType': 'http://www.w3.org/2001/XMLSchema#integer',\n",
       "      'dwSourceId': 'menu_id'},\n",
       "     {'name': 'page_number',\n",
       "      'title': 'page_number',\n",
       "      'description': 'the page number in the menu',\n",
       "      'type': 'integer',\n",
       "      'rdfType': 'http://www.w3.org/2001/XMLSchema#integer',\n",
       "      'dwSourceId': 'page_number'},\n",
       "     {'name': 'image_id',\n",
       "      'title': 'image_id',\n",
       "      'description': 'a unique identifier for the scanned image of this menu page, accessible on the NYPL site',\n",
       "      'type': 'string',\n",
       "      'rdfType': 'http://www.w3.org/2001/XMLSchema#string',\n",
       "      'dwSourceId': 'image_id'},\n",
       "     {'name': 'full_height',\n",
       "      'title': 'full_height',\n",
       "      'description': 'the height of the menu',\n",
       "      'type': 'integer',\n",
       "      'rdfType': 'http://www.w3.org/2001/XMLSchema#integer',\n",
       "      'dwSourceId': 'full_height'},\n",
       "     {'name': 'full_width',\n",
       "      'title': 'full_width',\n",
       "      'description': 'the width of the menu',\n",
       "      'type': 'integer',\n",
       "      'rdfType': 'http://www.w3.org/2001/XMLSchema#integer',\n",
       "      'dwSourceId': 'full_width'},\n",
       "     {'name': 'uuid',\n",
       "      'title': 'uuid',\n",
       "      'description': 'a(nother) unique identifier for this page/image',\n",
       "      'type': 'string',\n",
       "      'rdfType': 'http://www.w3.org/2001/XMLSchema#string',\n",
       "      'dwSourceId': 'uuid'}]},\n",
       "   'path': 'data/menupage.csv',\n",
       "   'format': 'csv'},\n",
       "  {'name': 'original/Dish.csv',\n",
       "   'description': 'updated 2017-11-01',\n",
       "   'path': 'original/Dish.csv',\n",
       "   'format': 'csv',\n",
       "   'mediatype': 'text/csv',\n",
       "   'bytes': 26673026},\n",
       "  {'name': 'original/Menu.csv',\n",
       "   'path': 'original/Menu.csv',\n",
       "   'format': 'csv',\n",
       "   'mediatype': 'text/csv',\n",
       "   'bytes': 3233691},\n",
       "  {'name': 'original/MenuItem.csv',\n",
       "   'path': 'original/MenuItem.csv',\n",
       "   'format': 'csv',\n",
       "   'mediatype': 'text/csv',\n",
       "   'bytes': 118613508},\n",
       "  {'name': 'original/MenuPage.csv',\n",
       "   'path': 'original/MenuPage.csv',\n",
       "   'format': 'csv',\n",
       "   'mediatype': 'text/csv',\n",
       "   'bytes': 4671001},\n",
       "  {'name': 'original/readme.txt',\n",
       "   'path': 'original/readme.txt',\n",
       "   'format': 'txt',\n",
       "   'mediatype': 'text/plain',\n",
       "   'bytes': 1882}],\n",
       " 'keywords': ['data society',\n",
       "  'menu',\n",
       "  'dish',\n",
       "  'price',\n",
       "  'classification',\n",
       "  'clustering',\n",
       "  'restaurant',\n",
       "  'time series',\n",
       "  'menus',\n",
       "  'food',\n",
       "  'restaurants']}"
      ]
     },
     "execution_count": 7,
     "metadata": {},
     "output_type": "execute_result"
    }
   ],
   "source": [
    "metadata"
   ]
  },
  {
   "cell_type": "markdown",
   "id": "3d4ca3db-b47b-457d-9cc3-a349f7e50df0",
   "metadata": {},
   "source": [
    "## Understand this data better \n",
    "From http://menus.nypl.org/data , https://github.com/NYPL/menus-api/issues , ( old link http://api.menus.nypl.org/ that points to the defuct https://nypl.github.com/menus-api   )\n",
    "\n",
    "\n",
    "Seeing they also refer to https://menupages.com/restaurants/ny-new-york  , peripherally , with a search attempt, http://www.menupages.com/restaurants/food/Broiled+green+bluefish,+Julienne+potatoes/all-areas/all-neighborhoods/all-cuisines/  , \n",
    "\n",
    "and http://www.epicurious.com/tools/searchresults?search=Broiled+green+bluefish,+Julienne+potatoes \n",
    "and google recipe http://www.google.com/search?tbm=rcp&q=Broiled+green+bluefish,+Julienne+potatoes \n"
   ]
  },
  {
   "cell_type": "code",
   "execution_count": null,
   "id": "a03e340b-6be7-4d2e-b421-fb93b03e6da6",
   "metadata": {},
   "outputs": [],
   "source": []
  },
  {
   "cell_type": "code",
   "execution_count": 8,
   "id": "10ec7d66-49d4-404c-b66d-952769c729e7",
   "metadata": {},
   "outputs": [
    {
     "data": {
      "text/plain": [
       "(426740, 9)"
      ]
     },
     "execution_count": 8,
     "metadata": {},
     "output_type": "execute_result"
    }
   ],
   "source": [
    "dishdf.shape"
   ]
  },
  {
   "cell_type": "code",
   "execution_count": 27,
   "id": "70091760-d715-48dd-a0d3-f0ece9786adf",
   "metadata": {},
   "outputs": [
    {
     "data": {
      "text/html": [
       "<div>\n",
       "<style scoped>\n",
       "    .dataframe tbody tr th:only-of-type {\n",
       "        vertical-align: middle;\n",
       "    }\n",
       "\n",
       "    .dataframe tbody tr th {\n",
       "        vertical-align: top;\n",
       "    }\n",
       "\n",
       "    .dataframe thead th {\n",
       "        text-align: right;\n",
       "    }\n",
       "</style>\n",
       "<table border=\"1\" class=\"dataframe\">\n",
       "  <thead>\n",
       "    <tr style=\"text-align: right;\">\n",
       "      <th></th>\n",
       "      <th>id</th>\n",
       "      <th>name</th>\n",
       "      <th>description</th>\n",
       "      <th>menus_appeared</th>\n",
       "      <th>times_appeared</th>\n",
       "      <th>first_appeared</th>\n",
       "      <th>last_appeared</th>\n",
       "      <th>lowest_price</th>\n",
       "      <th>highest_price</th>\n",
       "    </tr>\n",
       "  </thead>\n",
       "  <tbody>\n",
       "    <tr>\n",
       "      <th>194317</th>\n",
       "      <td>247140</td>\n",
       "      <td>Shrimp Sushi (Ebi)</td>\n",
       "      <td>NaN</td>\n",
       "      <td>2</td>\n",
       "      <td>2</td>\n",
       "      <td>1985</td>\n",
       "      <td>1987</td>\n",
       "      <td>0.0</td>\n",
       "      <td>0.0</td>\n",
       "    </tr>\n",
       "    <tr>\n",
       "      <th>199686</th>\n",
       "      <td>254456</td>\n",
       "      <td>Chardonnay: Chateau Montelena</td>\n",
       "      <td>NaN</td>\n",
       "      <td>1</td>\n",
       "      <td>1</td>\n",
       "      <td>1987</td>\n",
       "      <td>1987</td>\n",
       "      <td>28.0</td>\n",
       "      <td>28.0</td>\n",
       "    </tr>\n",
       "    <tr>\n",
       "      <th>171801</th>\n",
       "      <td>216722</td>\n",
       "      <td>Dokator</td>\n",
       "      <td>NaN</td>\n",
       "      <td>1</td>\n",
       "      <td>1</td>\n",
       "      <td>1974</td>\n",
       "      <td>1974</td>\n",
       "      <td>0.0</td>\n",
       "      <td>0.0</td>\n",
       "    </tr>\n",
       "    <tr>\n",
       "      <th>264715</th>\n",
       "      <td>333844</td>\n",
       "      <td>Kraft American Cheese with Toasted Crackers</td>\n",
       "      <td>NaN</td>\n",
       "      <td>1</td>\n",
       "      <td>1</td>\n",
       "      <td>1941</td>\n",
       "      <td>1941</td>\n",
       "      <td>0.0</td>\n",
       "      <td>0.0</td>\n",
       "    </tr>\n",
       "    <tr>\n",
       "      <th>137788</th>\n",
       "      <td>172257</td>\n",
       "      <td>Kalbssteak \"Florida\"  mit glacierten Fruchten,...</td>\n",
       "      <td>NaN</td>\n",
       "      <td>1</td>\n",
       "      <td>1</td>\n",
       "      <td>0</td>\n",
       "      <td>0</td>\n",
       "      <td>0.0</td>\n",
       "      <td>0.0</td>\n",
       "    </tr>\n",
       "  </tbody>\n",
       "</table>\n",
       "</div>"
      ],
      "text/plain": [
       "            id                                               name  \\\n",
       "194317  247140                                 Shrimp Sushi (Ebi)   \n",
       "199686  254456                      Chardonnay: Chateau Montelena   \n",
       "171801  216722                                            Dokator   \n",
       "264715  333844        Kraft American Cheese with Toasted Crackers   \n",
       "137788  172257  Kalbssteak \"Florida\"  mit glacierten Fruchten,...   \n",
       "\n",
       "        description  menus_appeared  times_appeared  first_appeared  \\\n",
       "194317          NaN               2               2            1985   \n",
       "199686          NaN               1               1            1987   \n",
       "171801          NaN               1               1            1974   \n",
       "264715          NaN               1               1            1941   \n",
       "137788          NaN               1               1               0   \n",
       "\n",
       "        last_appeared  lowest_price  highest_price  \n",
       "194317           1987           0.0            0.0  \n",
       "199686           1987          28.0           28.0  \n",
       "171801           1974           0.0            0.0  \n",
       "264715           1941           0.0            0.0  \n",
       "137788              0           0.0            0.0  "
      ]
     },
     "execution_count": 27,
     "metadata": {},
     "output_type": "execute_result"
    }
   ],
   "source": [
    "dishdf.sample(n=10).head()"
   ]
  },
  {
   "cell_type": "markdown",
   "id": "ce58932d-f177-4b02-921c-15d0bc1957f1",
   "metadata": {},
   "source": [
    "## When are these dishes from? \n",
    "\n",
    "There appears to be items with this special year, `2928` , so filtering that out, "
   ]
  },
  {
   "cell_type": "code",
   "execution_count": 24,
   "id": "38ceab5a-e5a1-44b9-be9c-39ad26dc1682",
   "metadata": {},
   "outputs": [
    {
     "name": "stderr",
     "output_type": "stream",
     "text": [
      "/var/folders/kw/2jghyyfs17d7_bcj4d08y9jw0000gn/T/ipykernel_78933/2497576364.py:20: UserWarning: Matplotlib is currently using module://matplotlib_inline.backend_inline, which is a non-GUI backend, so cannot show the figure.\n",
      "  fig.show()\n"
     ]
    },
    {
     "data": {
      "image/png": "[encoded data removed]",
      "text/plain": [
       "<Figure size 864x576 with 4 Axes>"
      ]
     },
     "metadata": {},
     "output_type": "display_data"
    }
   ],
   "source": [
    "max_year = 2928\n",
    "fig, axes = plt.subplots(figsize=(12, 8), nrows=2, ncols=2)\n",
    "fig.patch.set_facecolor(\"xkcd:mint green\")\n",
    "ax = axes[0][0]\n",
    "ax.hist(dishdf[(dishdf.first_appeared > 1) & (dishdf.first_appeared < max_year)][\"first_appeared\"], bins=50, alpha=0.2)\n",
    "ax.set(title=\"all time\")\n",
    "\n",
    "ax = axes[0][1]\n",
    "ax.hist(dishdf[(dishdf.last_appeared > 1) & (dishdf.last_appeared < max_year)][\"last_appeared\"], bins=50, alpha=0.2)\n",
    "ax.set(title=\"After 1990\")\n",
    "\n",
    "ax = axes[1][0]\n",
    "ax.hist(dishdf[(dishdf.first_appeared > 1990) & (dishdf.first_appeared < max_year)][\"first_appeared\"], bins=50, alpha=0.2)\n",
    "ax.set(title=\"all time\")\n",
    "\n",
    "ax = axes[1][1]\n",
    "ax.hist(dishdf[(dishdf.last_appeared > 1990) & (dishdf.last_appeared < max_year)][\"last_appeared\"], bins=50, alpha=0.2)\n",
    "ax.set(title=\"After 1990\")\n",
    "\n",
    "fig.show()"
   ]
  },
  {
   "cell_type": "code",
   "execution_count": 23,
   "id": "fa901a17-fe5a-44cd-9248-388526542414",
   "metadata": {},
   "outputs": [
    {
     "data": {
      "text/plain": [
       "([2928, 2928, 2928, 2928, 2928], [2928, 2928, 2928, 2928, 2928])"
      ]
     },
     "execution_count": 23,
     "metadata": {},
     "output_type": "execute_result"
    }
   ],
   "source": [
    "sorted(dishdf.first_appeared.tolist())[-5:], sorted(dishdf.last_appeared.tolist())[-5:]"
   ]
  },
  {
   "cell_type": "markdown",
   "id": "d5d8a56f-fd4e-45bf-a2fd-d9bd41ed57ce",
   "metadata": {},
   "source": [
    "## Paraphrase mining on these dishes, "
   ]
  },
  {
   "cell_type": "code",
   "execution_count": 32,
   "id": "564a53cb-b57c-4417-bebb-a472c5a3da3c",
   "metadata": {},
   "outputs": [
    {
     "name": "stdout",
     "output_type": "stream",
     "text": [
      "CPU times: user 1min 56s, sys: 2.5 s, total: 1min 58s\n",
      "Wall time: 1min 4s\n"
     ]
    }
   ],
   "source": [
    "%%time\n",
    "model_name = \"all-MiniLM-L12-v2\"\n",
    "model = SentenceTransformer(model_name)\n",
    "\n",
    "sentences = dishdf[\"name\"].sample(10000).tolist()\n",
    "\n",
    "paraphrases = util.paraphrase_mining(model, sentences)\n"
   ]
  },
  {
   "cell_type": "code",
   "execution_count": 36,
   "id": "d2c4f7ce-afef-4694-9adf-c973c6686dbd",
   "metadata": {},
   "outputs": [
    {
     "name": "stdout",
     "output_type": "stream",
     "text": [
      "\"1/2 jg. Masthahnchen mit pommees frites und Salat\" and \"1/2 jg. Masthahnchen mit pommes frites und Salat\", Score: 0.9983\n",
      "\"Clam broth, per cup, with egg\" and \"Clam broth, per cup with egg\", Score: 0.9967\n",
      "\"Spring lamb stew, Dublin style\" and \"Spring Lamb Stew, Dublin Style`\", Score: 0.9912\n",
      "\"雞片魚肚湯\" and \"紫菜蛋湯\", Score: 0.9911\n",
      "\"Spring chicken broiled\" and \"Broiled spring chicken\", Score: 0.9894\n",
      "\"Bacon, One Egg and Potatoes\" and \"bacon, one egg, potatoes\", Score: 0.9889\n",
      "\"STEAK OR CHICKEN FAJITA SALAD A crispy tortilla shell filled with garden greens, slices of char-broiled marinated steak or chicken breast with Cheddar, green onions, pico de gallo & sour cream\" and \"STEAK OR CHICKEN FAJITA SALAD A crispy tortilla shell filled with garden greens, slices of char-broiled marinated steak with Cheddar, green onions, pico de gallo & sour cream\", Score: 0.9887\n",
      "\"Forster Half Schoppen, with Seltzer\" and \"Forster Half Schoppen with seltzer\", Score: 0.9887\n",
      "\"Green-turtle soup a l'anglaise\" and \"Green Turtle Soup, à l'Anglaise\", Score: 0.9886\n",
      "\"Chicken croquette with asparagus tips\" and \"Chicken croquettes with asparagus tips\", Score: 0.9885\n"
     ]
    }
   ],
   "source": [
    "for paraphrase in [row for row in paraphrases if row[0] < .99999][:10]:\n",
    "    score, i, j = paraphrase\n",
    "    print(\"\\\"{}\\\" and \\\"{}\\\", Score: {:.4f}\".format(sentences[i], sentences[j], score))\n"
   ]
  },
  {
   "cell_type": "code",
   "execution_count": 37,
   "id": "c1837d1b-0cd5-4484-9f7a-8e1e5a70b3dd",
   "metadata": {},
   "outputs": [
    {
     "name": "stdout",
     "output_type": "stream",
     "text": [
      "\"Chicken okra (soup)\" and \"Okra with Chicken Soup\", Score: 0.9494\n",
      "\"Fresh Orange Juice, Glass\" and \"Orange Juice, Glass\", Score: 0.9490\n",
      "\"Chicken okra (soup)\" and \"Soup, Chicken, with Okra\", Score: 0.9490\n",
      "\"COURVOISIER, V S O P\" and \"Courvoisier V S O P\", Score: 0.9488\n",
      "\"Gefuelte Fish, Beet Horseradish\" and \"Gefuelte Fish with Beets and Horseradish\", Score: 0.9477\n",
      "\"Terrapin, A La Maryland\" and \"Terrapin, Maryland I\", Score: 0.9475\n",
      "\"Anheuser-Busch Budweiser Beer\" and \"Anheuser-Busch Budweiser\", Score: 0.9474\n",
      "\"紫菜蛋湯\" and \"鳳尾蝦\", Score: 0.9468\n",
      "\"排骨\" and \"鳳尾蝦\", Score: 0.9465\n",
      "\"Soup, Cream Tomato\" and \"Soup, Cream of tomatoes\", Score: 0.9464\n"
     ]
    }
   ],
   "source": [
    "for paraphrase in [row for row in paraphrases if row[0] < .95][:10]:\n",
    "    score, i, j = paraphrase\n",
    "    print(\"\\\"{}\\\" and \\\"{}\\\", Score: {:.4f}\".format(sentences[i], sentences[j], score))\n"
   ]
  },
  {
   "cell_type": "markdown",
   "id": "54104d86-0c89-4427-a7e7-680d679d016d",
   "metadata": {},
   "source": [
    "## Search for Chicken parmesan"
   ]
  },
  {
   "cell_type": "code",
   "execution_count": 42,
   "id": "81755d0f-cb7a-4358-bebf-b4431b7eb716",
   "metadata": {},
   "outputs": [
    {
     "name": "stdout",
     "output_type": "stream",
     "text": [
      "query: chicken parmesan torch.return_types.topk(\n",
      "values=tensor([0.7766, 0.6487, 0.6295, 0.6153, 0.6121]),\n",
      "indices=tensor([ 675, 6851, 6564, 5283, 3379])) \n",
      "\n",
      "\n",
      "query: cheesy poultry sandwich torch.return_types.topk(\n",
      "values=tensor([0.8070, 0.7523, 0.7196, 0.6868, 0.6724]),\n",
      "indices=tensor([6564, 8770, 2176, 2929, 3399])) \n",
      "\n",
      "\n",
      "query: turkey reggiano torch.return_types.topk(\n",
      "values=tensor([0.7313, 0.7079, 0.6319, 0.6115, 0.6003]),\n",
      "indices=tensor([6984, 6753, 3238, 9002, 3378])) \n",
      "\n",
      "\n",
      "query: turkey pecorino torch.return_types.topk(\n",
      "values=tensor([0.6900, 0.6344, 0.6254, 0.5985, 0.5967]),\n",
      "indices=tensor([6753, 3238, 1811, 3978, 5161])) \n",
      "\n",
      "\n",
      "query: pollo pecorino sandwich torch.return_types.topk(\n",
      "values=tensor([0.6215, 0.5948, 0.5629, 0.5587, 0.5170]),\n",
      "indices=tensor([3685, 7333, 7656, 1300, 7556])) \n",
      "\n",
      "\n"
     ]
    }
   ],
   "source": [
    "# (note the wayI did this below is not ideal since I lost the id when sampling)\n",
    "corpus = dishdf[\"name\"].sample(10000).tolist()\n",
    "corpus_embeddings = model.encode(corpus, convert_to_tensor=True)\n"
   ]
  },
  {
   "cell_type": "code",
   "execution_count": 47,
   "id": "227a86a6-5060-4a39-9aef-e6afe020db00",
   "metadata": {},
   "outputs": [
    {
     "name": "stdout",
     "output_type": "stream",
     "text": [
      "query: chicken parmesan [['Chicken Parmigian, with spaghetti', tensor(0.7766)], ['Chicken Salad Pita', tensor(0.6487)], ['Sandwich chicken', tensor(0.6295)], ['Chicken fricassee', tensor(0.6153)], ['CHICKEN PAPRIKASH, Parsley Potatoes', tensor(0.6121)]] \n",
      "\n",
      "\n",
      "query: cheesy poultry sandwich [['Sandwich chicken', tensor(0.8070)], ['Chicken [sandwich]', tensor(0.7523)], ['Chicken, Sardines Sandwich', tensor(0.7196)], ['Egg (fried) sandwich', tensor(0.6868)], ['Chicken sandwich with lettuce', tensor(0.6724)]] \n",
      "\n",
      "\n",
      "query: turkey reggiano [['Reggiano', tensor(0.7313)], ['turkey', tensor(0.7079)], ['roast turkey', tensor(0.6319)], ['Spring turkey (half)', tensor(0.6115)], ['Creamed Smoked Turkey, Divan-Parisienne', tensor(0.6003)]] \n",
      "\n",
      "\n",
      "query: turkey pecorino [['turkey', tensor(0.6900)], ['roast turkey', tensor(0.6344)], ['Grilled Squab turkey', tensor(0.6254)], ['Turkey poele and celery', tensor(0.5985)], ['Grilled Young turkey', tensor(0.5967)]] \n",
      "\n",
      "\n",
      "query: pollo pecorino sandwich [['Spooned \"pecorino\" cheese', tensor(0.6215)], ['Enchiladas de Pollo', tensor(0.5948)], ['Pescado al horno', tensor(0.5629)], ['Sandwich, Pate de foie-gras', tensor(0.5587)], ['Pate-de-fois-gras sandwich', tensor(0.5170)]] \n",
      "\n",
      "\n",
      "CPU times: user 266 ms, sys: 10.3 ms, total: 276 ms\n",
      "Wall time: 262 ms\n"
     ]
    }
   ],
   "source": [
    "%%time\n",
    "queries = [\"chicken parmesan\", \"cheesy poultry sandwich\", \"turkey reggiano\", \"turkey pecorino\", \"pollo pecorino sandwich\"]\n",
    "for query in queries:\n",
    "    query_embedding = model.encode(query, convert_to_tensor=True)    \n",
    "    cos_scores = util.cos_sim(query_embedding, corpus_embeddings)[0]\n",
    "    top_k = 5\n",
    "    top_results = torch.topk(cos_scores, k=top_k)\n",
    "    print(\"query:\",query, [[corpus[i], score] for (score, i) in zip(top_results[0], top_results[1])], \"\\n\\n\")\n",
    "\n"
   ]
  },
  {
   "cell_type": "code",
   "execution_count": 46,
   "id": "5c0410a0-8001-4a92-924d-002163bc5b34",
   "metadata": {},
   "outputs": [
    {
     "data": {
      "text/plain": [
       "torch.return_types.topk(\n",
       "values=tensor([0.7766, 0.6487, 0.6295, 0.6153, 0.6121]),\n",
       "indices=tensor([ 675, 6851, 6564, 5283, 3379]))"
      ]
     },
     "execution_count": 46,
     "metadata": {},
     "output_type": "execute_result"
    }
   ],
   "source": [
    "top_results"
   ]
  },
  {
   "cell_type": "markdown",
   "id": "b77890cb-fffe-417b-a946-fa7787366424",
   "metadata": {},
   "source": [
    "## Look at this data model for one dish"
   ]
  },
  {
   "cell_type": "code",
   "execution_count": 48,
   "id": "fcbb2b38-4457-459d-959f-99711f1e9e2d",
   "metadata": {},
   "outputs": [
    {
     "data": {
      "text/plain": [
       "id                                                    415513\n",
       "name              Broiled green bluefish, Julienne potatoes \n",
       "description                                              NaN\n",
       "menus_appeared                                             1\n",
       "times_appeared                                             1\n",
       "first_appeared                                          2928\n",
       "last_appeared                                           2928\n",
       "lowest_price                                            0.65\n",
       "highest_price                                           0.65\n",
       "Name: 333811, dtype: object"
      ]
     },
     "execution_count": 48,
     "metadata": {},
     "output_type": "execute_result"
    }
   ],
   "source": [
    "# Looking up https://menus.nypl.org/dishes/415513 \n",
    "# mentions this menu, https://menus.nypl.org/menus/32265 , \n",
    "dishdf[dishdf.id == 415513].iloc[0]\n"
   ]
  },
  {
   "cell_type": "code",
   "execution_count": 50,
   "id": "cbf2684c-6e1d-461f-ad59-22ee92b21f39",
   "metadata": {},
   "outputs": [
    {
     "data": {
      "text/html": [
       "<div>\n",
       "<style scoped>\n",
       "    .dataframe tbody tr th:only-of-type {\n",
       "        vertical-align: middle;\n",
       "    }\n",
       "\n",
       "    .dataframe tbody tr th {\n",
       "        vertical-align: top;\n",
       "    }\n",
       "\n",
       "    .dataframe thead th {\n",
       "        text-align: right;\n",
       "    }\n",
       "</style>\n",
       "<table border=\"1\" class=\"dataframe\">\n",
       "  <thead>\n",
       "    <tr style=\"text-align: right;\">\n",
       "      <th></th>\n",
       "      <th>id</th>\n",
       "      <th>menu_page_id</th>\n",
       "      <th>price</th>\n",
       "      <th>high_price</th>\n",
       "      <th>dish_id</th>\n",
       "      <th>created_at</th>\n",
       "      <th>updated_at</th>\n",
       "      <th>xpos</th>\n",
       "      <th>ypos</th>\n",
       "    </tr>\n",
       "  </thead>\n",
       "  <tbody>\n",
       "    <tr>\n",
       "      <th>0</th>\n",
       "      <td>1</td>\n",
       "      <td>1389</td>\n",
       "      <td>0.4</td>\n",
       "      <td>NaN</td>\n",
       "      <td>1.0</td>\n",
       "      <td>2011-03-28 15:00:44 UTC</td>\n",
       "      <td>2011-04-19 04:33:15 UTC</td>\n",
       "      <td>0.111429</td>\n",
       "      <td>0.254735</td>\n",
       "    </tr>\n",
       "    <tr>\n",
       "      <th>1</th>\n",
       "      <td>2</td>\n",
       "      <td>1389</td>\n",
       "      <td>0.6</td>\n",
       "      <td>NaN</td>\n",
       "      <td>2.0</td>\n",
       "      <td>2011-03-28 15:01:13 UTC</td>\n",
       "      <td>2011-04-19 15:00:54 UTC</td>\n",
       "      <td>0.438571</td>\n",
       "      <td>0.254735</td>\n",
       "    </tr>\n",
       "    <tr>\n",
       "      <th>2</th>\n",
       "      <td>3</td>\n",
       "      <td>1389</td>\n",
       "      <td>0.4</td>\n",
       "      <td>NaN</td>\n",
       "      <td>3.0</td>\n",
       "      <td>2011-03-28 15:01:40 UTC</td>\n",
       "      <td>2011-04-19 19:10:05 UTC</td>\n",
       "      <td>0.140000</td>\n",
       "      <td>0.261922</td>\n",
       "    </tr>\n",
       "    <tr>\n",
       "      <th>3</th>\n",
       "      <td>4</td>\n",
       "      <td>1389</td>\n",
       "      <td>0.5</td>\n",
       "      <td>NaN</td>\n",
       "      <td>4.0</td>\n",
       "      <td>2011-03-28 15:01:51 UTC</td>\n",
       "      <td>2011-04-19 19:07:01 UTC</td>\n",
       "      <td>0.377143</td>\n",
       "      <td>0.262720</td>\n",
       "    </tr>\n",
       "    <tr>\n",
       "      <th>4</th>\n",
       "      <td>5</td>\n",
       "      <td>3079</td>\n",
       "      <td>0.5</td>\n",
       "      <td>1.0</td>\n",
       "      <td>5.0</td>\n",
       "      <td>2011-03-28 15:21:26 UTC</td>\n",
       "      <td>2011-04-13 15:25:27 UTC</td>\n",
       "      <td>0.105714</td>\n",
       "      <td>0.313178</td>\n",
       "    </tr>\n",
       "  </tbody>\n",
       "</table>\n",
       "</div>"
      ],
      "text/plain": [
       "   id  menu_page_id  price  high_price  dish_id               created_at  \\\n",
       "0   1          1389    0.4         NaN      1.0  2011-03-28 15:00:44 UTC   \n",
       "1   2          1389    0.6         NaN      2.0  2011-03-28 15:01:13 UTC   \n",
       "2   3          1389    0.4         NaN      3.0  2011-03-28 15:01:40 UTC   \n",
       "3   4          1389    0.5         NaN      4.0  2011-03-28 15:01:51 UTC   \n",
       "4   5          3079    0.5         1.0      5.0  2011-03-28 15:21:26 UTC   \n",
       "\n",
       "                updated_at      xpos      ypos  \n",
       "0  2011-04-19 04:33:15 UTC  0.111429  0.254735  \n",
       "1  2011-04-19 15:00:54 UTC  0.438571  0.254735  \n",
       "2  2011-04-19 19:10:05 UTC  0.140000  0.261922  \n",
       "3  2011-04-19 19:07:01 UTC  0.377143  0.262720  \n",
       "4  2011-04-13 15:25:27 UTC  0.105714  0.313178  "
      ]
     },
     "execution_count": 50,
     "metadata": {},
     "output_type": "execute_result"
    }
   ],
   "source": [
    "menuitemdf.iloc[:5]"
   ]
  },
  {
   "cell_type": "code",
   "execution_count": 51,
   "id": "62e3d998-2cbb-43c5-90c9-224bc1ab23f2",
   "metadata": {},
   "outputs": [
    {
     "data": {
      "text/html": [
       "<div>\n",
       "<style scoped>\n",
       "    .dataframe tbody tr th:only-of-type {\n",
       "        vertical-align: middle;\n",
       "    }\n",
       "\n",
       "    .dataframe tbody tr th {\n",
       "        vertical-align: top;\n",
       "    }\n",
       "\n",
       "    .dataframe thead th {\n",
       "        text-align: right;\n",
       "    }\n",
       "</style>\n",
       "<table border=\"1\" class=\"dataframe\">\n",
       "  <thead>\n",
       "    <tr style=\"text-align: right;\">\n",
       "      <th></th>\n",
       "      <th>id</th>\n",
       "      <th>menu_page_id</th>\n",
       "      <th>price</th>\n",
       "      <th>high_price</th>\n",
       "      <th>dish_id</th>\n",
       "      <th>created_at</th>\n",
       "      <th>updated_at</th>\n",
       "      <th>xpos</th>\n",
       "      <th>ypos</th>\n",
       "    </tr>\n",
       "  </thead>\n",
       "  <tbody>\n",
       "    <tr>\n",
       "      <th>1068891</th>\n",
       "      <td>1116293</td>\n",
       "      <td>66700</td>\n",
       "      <td>0.65</td>\n",
       "      <td>NaN</td>\n",
       "      <td>415513.0</td>\n",
       "      <td>2012-09-25 22:26:46 UTC</td>\n",
       "      <td>2012-10-14 15:28:18 UTC</td>\n",
       "      <td>0.105333</td>\n",
       "      <td>0.29552</td>\n",
       "    </tr>\n",
       "  </tbody>\n",
       "</table>\n",
       "</div>"
      ],
      "text/plain": [
       "              id  menu_page_id  price  high_price   dish_id  \\\n",
       "1068891  1116293         66700   0.65         NaN  415513.0   \n",
       "\n",
       "                      created_at               updated_at      xpos     ypos  \n",
       "1068891  2012-09-25 22:26:46 UTC  2012-10-14 15:28:18 UTC  0.105333  0.29552  "
      ]
     },
     "execution_count": 51,
     "metadata": {},
     "output_type": "execute_result"
    }
   ],
   "source": [
    "menuitemdf[menuitemdf.dish_id == 415513]"
   ]
  },
  {
   "cell_type": "code",
   "execution_count": 57,
   "id": "97831408-42c9-409c-a98a-cf6858735bee",
   "metadata": {},
   "outputs": [
    {
     "data": {
      "text/html": [
       "<div>\n",
       "<style scoped>\n",
       "    .dataframe tbody tr th:only-of-type {\n",
       "        vertical-align: middle;\n",
       "    }\n",
       "\n",
       "    .dataframe tbody tr th {\n",
       "        vertical-align: top;\n",
       "    }\n",
       "\n",
       "    .dataframe thead th {\n",
       "        text-align: right;\n",
       "    }\n",
       "</style>\n",
       "<table border=\"1\" class=\"dataframe\">\n",
       "  <thead>\n",
       "    <tr style=\"text-align: right;\">\n",
       "      <th></th>\n",
       "      <th>id</th>\n",
       "      <th>menu_id</th>\n",
       "      <th>page_number</th>\n",
       "      <th>image_id</th>\n",
       "      <th>full_height</th>\n",
       "      <th>full_width</th>\n",
       "      <th>uuid</th>\n",
       "    </tr>\n",
       "  </thead>\n",
       "  <tbody>\n",
       "    <tr>\n",
       "      <th>56205</th>\n",
       "      <td>66700</td>\n",
       "      <td>32265</td>\n",
       "      <td>1.0</td>\n",
       "      <td>4049510</td>\n",
       "      <td>7170.0</td>\n",
       "      <td>3876.0</td>\n",
       "      <td>c37c22b3-25b0-835e-e040-e00a18066b39</td>\n",
       "    </tr>\n",
       "  </tbody>\n",
       "</table>\n",
       "</div>"
      ],
      "text/plain": [
       "          id  menu_id  page_number image_id  full_height  full_width  \\\n",
       "56205  66700    32265          1.0  4049510       7170.0      3876.0   \n",
       "\n",
       "                                       uuid  \n",
       "56205  c37c22b3-25b0-835e-e040-e00a18066b39  "
      ]
     },
     "execution_count": 57,
     "metadata": {},
     "output_type": "execute_result"
    }
   ],
   "source": [
    "menupagedf[menupagedf.id == 66700]\n"
   ]
  },
  {
   "cell_type": "code",
   "execution_count": 58,
   "id": "56c5d7a5-189e-4051-b136-7dda996e2fbe",
   "metadata": {},
   "outputs": [
    {
     "data": {
      "text/html": [
       "<div>\n",
       "<style scoped>\n",
       "    .dataframe tbody tr th:only-of-type {\n",
       "        vertical-align: middle;\n",
       "    }\n",
       "\n",
       "    .dataframe tbody tr th {\n",
       "        vertical-align: top;\n",
       "    }\n",
       "\n",
       "    .dataframe thead th {\n",
       "        text-align: right;\n",
       "    }\n",
       "</style>\n",
       "<table border=\"1\" class=\"dataframe\">\n",
       "  <thead>\n",
       "    <tr style=\"text-align: right;\">\n",
       "      <th></th>\n",
       "      <th>id</th>\n",
       "      <th>name</th>\n",
       "      <th>sponsor</th>\n",
       "      <th>event</th>\n",
       "      <th>venue</th>\n",
       "      <th>place</th>\n",
       "      <th>physical_description</th>\n",
       "      <th>occasion</th>\n",
       "      <th>notes</th>\n",
       "      <th>call_number</th>\n",
       "      <th>keywords</th>\n",
       "      <th>language</th>\n",
       "      <th>date</th>\n",
       "      <th>location</th>\n",
       "      <th>location_type</th>\n",
       "      <th>currency</th>\n",
       "      <th>currency_symbol</th>\n",
       "      <th>status</th>\n",
       "      <th>page_count</th>\n",
       "      <th>dish_count</th>\n",
       "    </tr>\n",
       "  </thead>\n",
       "  <tbody>\n",
       "    <tr>\n",
       "      <th>14659</th>\n",
       "      <td>32265</td>\n",
       "      <td>Healy's Forty-second Street restaurant</td>\n",
       "      <td>Healy's Forty-second Street restaurant</td>\n",
       "      <td>NaN</td>\n",
       "      <td>NaN</td>\n",
       "      <td>NaN</td>\n",
       "      <td>33x18cm</td>\n",
       "      <td>NaN</td>\n",
       "      <td>dinner</td>\n",
       "      <td>1918-0387_wotm</td>\n",
       "      <td>NaN</td>\n",
       "      <td>NaN</td>\n",
       "      <td>2928-03-26</td>\n",
       "      <td>Healy's Forty-second Street restaurant</td>\n",
       "      <td>NaN</td>\n",
       "      <td>Dollars</td>\n",
       "      <td>$</td>\n",
       "      <td>complete</td>\n",
       "      <td>2</td>\n",
       "      <td>333</td>\n",
       "    </tr>\n",
       "  </tbody>\n",
       "</table>\n",
       "</div>"
      ],
      "text/plain": [
       "          id                                    name  \\\n",
       "14659  32265  Healy's Forty-second Street restaurant   \n",
       "\n",
       "                                      sponsor event venue place  \\\n",
       "14659  Healy's Forty-second Street restaurant   NaN   NaN   NaN   \n",
       "\n",
       "      physical_description occasion   notes     call_number  keywords  \\\n",
       "14659              33x18cm      NaN  dinner  1918-0387_wotm       NaN   \n",
       "\n",
       "       language        date                                location  \\\n",
       "14659       NaN  2928-03-26  Healy's Forty-second Street restaurant   \n",
       "\n",
       "       location_type currency currency_symbol    status  page_count  \\\n",
       "14659            NaN  Dollars               $  complete           2   \n",
       "\n",
       "       dish_count  \n",
       "14659         333  "
      ]
     },
     "execution_count": 58,
     "metadata": {},
     "output_type": "execute_result"
    }
   ],
   "source": [
    "menudf[menudf.id == 32265]"
   ]
  },
  {
   "cell_type": "markdown",
   "id": "d9e270bd-ed49-4436-8f00-dc5ac125d639",
   "metadata": {},
   "source": [
    "## Plan for the demo update \n",
    "- Ok lets dump the dish embeddings to a embedding file based vector db. Maybe that is chroma. \n",
    "- Then update my app.py to query against that file vector db therefore.\n",
    "- And I can add the relational classic part to the query, such that, can search for restaurants, say, within a particular geographic area. (Maybe cuisine if I can see cuisine somewhere in here too ) \n"
   ]
  },
  {
   "cell_type": "markdown",
   "id": "0bac8dea-cee0-4bab-bdef-d7ea97c1e2ee",
   "metadata": {},
   "source": [
    "### Storing those embeddings\n",
    "So is the huggingface datasets approach , https://huggingface.co/blog/getting-started-with-embeddings#2-host-embeddings-for-free-on-the-hugging-face-hub , private ? \n",
    "\n"
   ]
  },
  {
   "cell_type": "code",
   "execution_count": 60,
   "id": "6ca692b5-d07c-424c-8a40-d3c27a345340",
   "metadata": {
    "scrolled": true
   },
   "outputs": [
    {
     "data": {
      "text/plain": [
       "tensor([[-0.1169,  0.0806, -0.1439],\n",
       "        [-0.0150, -0.0498, -0.0485]])"
      ]
     },
     "execution_count": 60,
     "metadata": {},
     "output_type": "execute_result"
    }
   ],
   "source": [
    "corpus_embeddings[:2,:3]"
   ]
  },
  {
   "cell_type": "markdown",
   "id": "948a9601-2c3a-4ddc-8b94-e70431e2ec02",
   "metadata": {},
   "source": [
    "#### Ah ok, it is a tensor because I chose the `convert_to_tensor=True` option I think in `model.encode`\n",
    "```python\n",
    "corpus = dishdf[\"name\"].sample(10000).tolist()\n",
    "corpus_embeddings = model.encode(corpus, convert_to_tensor=True)\n",
    "```\n",
    "\n",
    "#### Ok here is the uri\n",
    "https://huggingface.co/datasets/namoopsoo-org/nypl-dishes-2023-12-17"
   ]
  },
  {
   "cell_type": "code",
   "execution_count": 61,
   "id": "3d4b98cf-0cda-4d78-9d66-fb9e26c23978",
   "metadata": {},
   "outputs": [
    {
     "name": "stdout",
     "output_type": "stream",
     "text": [
      "CPU times: user 1min 50s, sys: 2.85 s, total: 1min 53s\n",
      "Wall time: 59.5 s\n"
     ]
    }
   ],
   "source": [
    "%%time\n",
    "dishdf_sample_10k = dishdf.sample(10000)\n",
    "corpus = dishdf_sample_10k[\"name\"].tolist()\n",
    "corpus_embeddings = model.encode(corpus, convert_to_tensor=False)\n",
    "# corpus_embeddings # 10k sample"
   ]
  },
  {
   "cell_type": "code",
   "execution_count": 69,
   "id": "fab6e951-c9da-4d17-a3c7-12134e1a37b2",
   "metadata": {},
   "outputs": [
    {
     "data": {
      "text/plain": [
       "array([[ 4.6341040e-05,  6.3488330e-03, -3.9927596e-03, ...,\n",
       "        -5.0374635e-02, -3.0236701e-02,  4.3697987e-02],\n",
       "       [-2.6026350e-02,  1.7899187e-02, -1.5278223e-01, ...,\n",
       "        -8.8468477e-02,  2.7734280e-02, -3.4045678e-02],\n",
       "       [-6.3904420e-02, -1.0652682e-02, -1.7555350e-02, ...,\n",
       "         5.8307756e-02,  9.3813606e-02,  9.6471556e-02],\n",
       "       ...,\n",
       "       [-8.6855069e-03,  5.7526581e-02,  3.2956218e-03, ...,\n",
       "         6.8702735e-02, -2.2665113e-02, -4.4143491e-04],\n",
       "       [ 1.4353356e-02,  9.4276562e-02, -2.6659792e-02, ...,\n",
       "         4.0872402e-02, -1.8203659e-02, -8.9903409e-03],\n",
       "       [ 1.4015907e-02, -7.5870351e-04, -9.3282899e-03, ...,\n",
       "         1.1273289e-01,  6.6884801e-02, -9.3462624e-02]], dtype=float32)"
      ]
     },
     "execution_count": 69,
     "metadata": {},
     "output_type": "execute_result"
    }
   ],
   "source": [
    "corpus_embeddings"
   ]
  },
  {
   "cell_type": "code",
   "execution_count": 66,
   "id": "d56e4613-604a-4ea7-a653-eaf310455893",
   "metadata": {},
   "outputs": [
    {
     "name": "stdout",
     "output_type": "stream",
     "text": [
      "2023-12-03-menu-entities.html  jovyan_utils.py\n",
      "2023-12-03-menu-entities.ipynb \u001b[34mnypl-dishes-2023-12-17\u001b[m\u001b[m\n",
      "2023-12-17.ipynb               requirements.txt\n",
      "README.md                      restaurant-menus.csv\n",
      "\u001b[34m__pycache__\u001b[m\u001b[m                    restaurants.csv\n",
      "app.py                         utils.py\n"
     ]
    },
    {
     "name": "stderr",
     "output_type": "stream",
     "text": [
      "huggingface/tokenizers: The current process just got forked, after parallelism has already been used. Disabling parallelism to avoid deadlocks...\n",
      "To disable this warning, you can either:\n",
      "\t- Avoid using `tokenizers` before the fork if possible\n",
      "\t- Explicitly set the environment variable TOKENIZERS_PARALLELISM=(true | false)\n"
     ]
    }
   ],
   "source": [
    "!ls"
   ]
  },
  {
   "cell_type": "code",
   "execution_count": 71,
   "id": "94de2cf0-b8c4-4f52-a4fa-5df5f0224836",
   "metadata": {},
   "outputs": [],
   "source": [
    "pd.DataFrame(corpus_embeddings).to_csv(\"nypl-dishes-2023-12-17/sample-10k.csv\", index=False)"
   ]
  },
  {
   "cell_type": "code",
   "execution_count": 81,
   "id": "4cbd3f7a-0aa8-4f53-9374-45bd96befc14",
   "metadata": {},
   "outputs": [],
   "source": [
    "dishdf_sample_10k.to_csv(\"nypl-dishes-2023-12-17/sample-10k-dishdf.csv\", index=False)"
   ]
  },
  {
   "cell_type": "code",
   "execution_count": 72,
   "id": "8ff07368-a7b3-45e6-9326-1b3841c0a747",
   "metadata": {},
   "outputs": [
    {
     "name": "stdout",
     "output_type": "stream",
     "text": [
      "query: chicken parmesan [['Chicken with Parsley sauce', tensor(0.7046)], ['Essence of Chicken and Mushrooms, Vermicelli Croutons Parmesan', tensor(0.6430)], ['Chicken en casserole, Parmentier', tensor(0.6272)], ['Chicken cutlets, baked parsley', tensor(0.6134)], ['Spaghetti Bolognese Parmesan', tensor(0.6086)]] \n",
      "\n",
      "\n"
     ]
    }
   ],
   "source": [
    "corpus_embeddings_from_csv = torch.from_numpy(pd.read_csv(\"nypl-dishes-2023-12-17/sample-10k.csv\").to_numpy()).to(torch.float)\n",
    "\n",
    "# Try that search again, \n",
    "query = \"chicken parmesan\"\n",
    "query_embedding = model.encode(query, convert_to_tensor=True)    \n",
    "cos_scores = util.cos_sim(query_embedding, corpus_embeddings_from_csv)[0]\n",
    "top_k = 5\n",
    "top_results = torch.topk(cos_scores, k=top_k)\n",
    "print(\"query:\",query, [[corpus[i], score] for (score, i) in zip(top_results[0], top_results[1])], \"\\n\\n\")\n",
    "\n"
   ]
  },
  {
   "cell_type": "markdown",
   "id": "ee35cbf1-2278-468e-a6a2-27c6d3a44271",
   "metadata": {},
   "source": [
    "### Lets try to load w/ datasets also \n"
   ]
  },
  {
   "cell_type": "code",
   "execution_count": 75,
   "id": "20138274-2339-4106-830d-7f364a76030b",
   "metadata": {},
   "outputs": [
    {
     "data": {
      "application/vnd.jupyter.widget-view+json": {
       "model_id": "49ed312826ca49ba8292986b78d4af9b",
       "version_major": 2,
       "version_minor": 0
      },
      "text/plain": [
       "Downloading readme:   0%|          | 0.00/741 [00:00<?, ?B/s]"
      ]
     },
     "metadata": {},
     "output_type": "display_data"
    },
    {
     "name": "stderr",
     "output_type": "stream",
     "text": [
      "/Users/michal/opt/miniconda3/envs/pandars310/lib/python3.10/site-packages/huggingface_hub/repocard.py:105: UserWarning: Repo card metadata block was not found. Setting CardData to empty.\n",
      "  warnings.warn(\"Repo card metadata block was not found. Setting CardData to empty.\")\n"
     ]
    },
    {
     "data": {
      "application/vnd.jupyter.widget-view+json": {
       "model_id": "67417d28b3ac4279bfc920b47fcce91a",
       "version_major": 2,
       "version_minor": 0
      },
      "text/plain": [
       "Downloading data files:   0%|          | 0/1 [00:00<?, ?it/s]"
      ]
     },
     "metadata": {},
     "output_type": "display_data"
    },
    {
     "data": {
      "application/vnd.jupyter.widget-view+json": {
       "model_id": "bb9b3065893d4c49a560141b1ddace49",
       "version_major": 2,
       "version_minor": 0
      },
      "text/plain": [
       "Downloading data:   0%|          | 0.00/47.0M [00:00<?, ?B/s]"
      ]
     },
     "metadata": {},
     "output_type": "display_data"
    },
    {
     "data": {
      "application/vnd.jupyter.widget-view+json": {
       "model_id": "14752c5a9f87458eb1c2b217e54b5fd0",
       "version_major": 2,
       "version_minor": 0
      },
      "text/plain": [
       "Extracting data files:   0%|          | 0/1 [00:00<?, ?it/s]"
      ]
     },
     "metadata": {},
     "output_type": "display_data"
    },
    {
     "data": {
      "application/vnd.jupyter.widget-view+json": {
       "model_id": "810ea874c54e4978b68822b690593347",
       "version_major": 2,
       "version_minor": 0
      },
      "text/plain": [
       "Generating train split: 0 examples [00:00, ? examples/s]"
      ]
     },
     "metadata": {},
     "output_type": "display_data"
    }
   ],
   "source": [
    "from datasets import load_dataset\n",
    "\n",
    "loaded_embeddings = load_dataset(\"namoopsoo-org/nypl-dishes-2023-12-17\")\n",
    "# https://huggingface.co/datasets/namoopsoo-org/nypl-dishes-2023-12-17/blob/main/sample-10k.csv"
   ]
  },
  {
   "cell_type": "code",
   "execution_count": 77,
   "id": "2c13b35b-cd94-4f59-a692-cc41d0576bda",
   "metadata": {},
   "outputs": [
    {
     "data": {
      "text/plain": [
       "(10000, 384)"
      ]
     },
     "execution_count": 77,
     "metadata": {},
     "output_type": "execute_result"
    }
   ],
   "source": [
    "loaded_embeddings[\"train\"].shape"
   ]
  },
  {
   "cell_type": "code",
   "execution_count": 80,
   "id": "51adfce7-a50c-4197-9d43-32ffcc5633b5",
   "metadata": {},
   "outputs": [
    {
     "name": "stdout",
     "output_type": "stream",
     "text": [
      "query: chicken parmesan sandwich [['Chicken, toasted sandwich', tensor(0.7108)], ['Chicken and Ham Sandwich', tensor(0.7056)], ['All White Meat Sliced Chicken Sandwich', tensor(0.7028)], ['Chicken and lettuce sandwich', tensor(0.6918)], ['Hot Chicken Sandwich, White Meat', tensor(0.6683)]] \n",
      "\n",
      "\n"
     ]
    }
   ],
   "source": [
    "corpus_embeddings = torch.from_numpy(\n",
    "    loaded_embeddings[\"train\"].to_pandas().to_numpy()\n",
    ").to(torch.float)\n",
    "\n",
    "# Try that search again, \n",
    "query = \"chicken parmesan sandwich\"\n",
    "query_embedding = model.encode(query, convert_to_tensor=True)    \n",
    "cos_scores = util.cos_sim(query_embedding, corpus_embeddings)[0]\n",
    "top_k = 5\n",
    "top_results = torch.topk(cos_scores, k=top_k)\n",
    "print(\"query:\", query, [[corpus[i], score] for (score, i) in zip(top_results[0], top_results[1])], \"\\n\\n\")\n",
    "\n"
   ]
  },
  {
   "cell_type": "code",
   "execution_count": 83,
   "id": "a72dec2a-ed66-4a8f-bac5-6101bb0e0a49",
   "metadata": {
    "scrolled": true
   },
   "outputs": [
    {
     "data": {
      "application/vnd.jupyter.widget-view+json": {
       "model_id": "cf5d43c066c54008a1df138b270ec785",
       "version_major": 2,
       "version_minor": 0
      },
      "text/plain": [
       "Downloading readme:   0%|          | 0.00/741 [00:00<?, ?B/s]"
      ]
     },
     "metadata": {},
     "output_type": "display_data"
    },
    {
     "data": {
      "application/vnd.jupyter.widget-view+json": {
       "model_id": "4a5f1321ddba493ea395cc2dc301d4ac",
       "version_major": 2,
       "version_minor": 0
      },
      "text/plain": [
       "Downloading data files:   0%|          | 0/1 [00:00<?, ?it/s]"
      ]
     },
     "metadata": {},
     "output_type": "display_data"
    },
    {
     "data": {
      "application/vnd.jupyter.widget-view+json": {
       "model_id": "bd0201aab6914dbfaf717ba4c72673df",
       "version_major": 2,
       "version_minor": 0
      },
      "text/plain": [
       "Downloading data:   0%|          | 0.00/47.0M [00:00<?, ?B/s]"
      ]
     },
     "metadata": {},
     "output_type": "display_data"
    },
    {
     "data": {
      "application/vnd.jupyter.widget-view+json": {
       "model_id": "d2532002f8134497b9fabdff95d627af",
       "version_major": 2,
       "version_minor": 0
      },
      "text/plain": [
       "Extracting data files:   0%|          | 0/1 [00:00<?, ?it/s]"
      ]
     },
     "metadata": {},
     "output_type": "display_data"
    },
    {
     "data": {
      "application/vnd.jupyter.widget-view+json": {
       "model_id": "bdef86926edb4287b41a4671a29f8bf5",
       "version_major": 2,
       "version_minor": 0
      },
      "text/plain": [
       "Generating train split: 0 examples [00:00, ? examples/s]"
      ]
     },
     "metadata": {},
     "output_type": "display_data"
    }
   ],
   "source": [
    "tryagain = load_dataset(\"namoopsoo-org/nypl-dishes-2023-12-17\")"
   ]
  },
  {
   "cell_type": "markdown",
   "id": "53653344-47d3-47d1-a64c-caf154ebc599",
   "metadata": {},
   "source": [
    "### Note on datasets \n",
    "So yea you can only have one file per dataset repo or they should have the same schema , otherwise you get \n",
    "\n",
    "```\n",
    "load_dataset(\"blahblah\")\n",
    "```\n",
    "```\n",
    "DatasetGenerationError: An error occurred while generating the dataset\n",
    "\n",
    "```"
   ]
  },
  {
   "cell_type": "code",
   "execution_count": null,
   "id": "e23763f7-0271-41ac-93d1-e3a6d54f3927",
   "metadata": {},
   "outputs": [],
   "source": [
    "# \n",
    "# load_dataset(\"namoopsoo-org/nypl-dishes-2023-12-17\")\n"
   ]
  }
 ],
 "metadata": {
  "kernelspec": {
   "display_name": "Python 3 (ipykernel)",
   "language": "python",
   "name": "python3"
  },
  "language_info": {
   "codemirror_mode": {
    "name": "ipython",
    "version": 3
   },
   "file_extension": ".py",
   "mimetype": "text/x-python",
   "name": "python",
   "nbconvert_exporter": "python",
   "pygments_lexer": "ipython3",
   "version": "3.10.0"
  }
 },
 "nbformat": 4,
 "nbformat_minor": 5
}
