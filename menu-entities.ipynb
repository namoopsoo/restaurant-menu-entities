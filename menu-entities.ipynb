{
 "cells": [
  {
   "cell_type": "code",
   "execution_count": 1,
   "id": "521a6d68-74ab-4985-9666-f7ffa7bfdaea",
   "metadata": {},
   "outputs": [],
   "source": [
    "import pandas as pd\n",
    "from pathlib import Path\n",
    "from dotenv import dotenv_values\n",
    "import matplotlib.pyplot as plt"
   ]
  },
  {
   "cell_type": "code",
   "execution_count": 2,
   "id": "dfe73af0-3a38-4ea6-83ec-dffcf75abfaf",
   "metadata": {},
   "outputs": [],
   "source": [
    "DATA_DIR = dotenv_values()[\"DATA_DIR\"]\n",
    "HF_TOKEN = dotenv_values()[\"HF_TOKEN\"]"
   ]
  },
  {
   "cell_type": "code",
   "execution_count": 59,
   "id": "e53e7590-9f1c-4a40-910f-df271e681a7a",
   "metadata": {},
   "outputs": [],
   "source": [
    "menusdf = pd.read_csv(Path(DATA_DIR) / \"restaurant-menus.csv\")\n",
    "restaurantsdf = pd.read_csv(Path(DATA_DIR) / \"restaurants.csv\")"
   ]
  },
  {
   "cell_type": "code",
   "execution_count": 25,
   "id": "336b085d-c30a-4623-bfc0-5a6f31485e48",
   "metadata": {},
   "outputs": [
    {
     "data": {
      "text/html": [
       "<div>\n",
       "<style scoped>\n",
       "    .dataframe tbody tr th:only-of-type {\n",
       "        vertical-align: middle;\n",
       "    }\n",
       "\n",
       "    .dataframe tbody tr th {\n",
       "        vertical-align: top;\n",
       "    }\n",
       "\n",
       "    .dataframe thead th {\n",
       "        text-align: right;\n",
       "    }\n",
       "</style>\n",
       "<table border=\"1\" class=\"dataframe\">\n",
       "  <thead>\n",
       "    <tr style=\"text-align: right;\">\n",
       "      <th></th>\n",
       "      <th>restaurant_id</th>\n",
       "      <th>category</th>\n",
       "      <th>name</th>\n",
       "      <th>description</th>\n",
       "      <th>price</th>\n",
       "      <th>category_num_tokens</th>\n",
       "      <th>name_num_tokens</th>\n",
       "      <th>description_num_tokens</th>\n",
       "    </tr>\n",
       "  </thead>\n",
       "  <tbody>\n",
       "    <tr>\n",
       "      <th>0</th>\n",
       "      <td>1</td>\n",
       "      <td>Extra Large Pizza</td>\n",
       "      <td>Extra Large Meat Lovers</td>\n",
       "      <td>Whole pie.</td>\n",
       "      <td>15.99 USD</td>\n",
       "      <td>3</td>\n",
       "      <td>4</td>\n",
       "      <td>2</td>\n",
       "    </tr>\n",
       "    <tr>\n",
       "      <th>1</th>\n",
       "      <td>1</td>\n",
       "      <td>Extra Large Pizza</td>\n",
       "      <td>Extra Large Supreme</td>\n",
       "      <td>Whole pie.</td>\n",
       "      <td>15.99 USD</td>\n",
       "      <td>3</td>\n",
       "      <td>3</td>\n",
       "      <td>2</td>\n",
       "    </tr>\n",
       "    <tr>\n",
       "      <th>2</th>\n",
       "      <td>1</td>\n",
       "      <td>Extra Large Pizza</td>\n",
       "      <td>Extra Large Pepperoni</td>\n",
       "      <td>Whole pie.</td>\n",
       "      <td>14.99 USD</td>\n",
       "      <td>3</td>\n",
       "      <td>3</td>\n",
       "      <td>2</td>\n",
       "    </tr>\n",
       "    <tr>\n",
       "      <th>3</th>\n",
       "      <td>1</td>\n",
       "      <td>Extra Large Pizza</td>\n",
       "      <td>Extra Large BBQ Chicken &amp;amp; Bacon</td>\n",
       "      <td>Whole Pie</td>\n",
       "      <td>15.99 USD</td>\n",
       "      <td>3</td>\n",
       "      <td>6</td>\n",
       "      <td>2</td>\n",
       "    </tr>\n",
       "    <tr>\n",
       "      <th>4</th>\n",
       "      <td>1</td>\n",
       "      <td>Extra Large Pizza</td>\n",
       "      <td>Extra Large 5 Cheese</td>\n",
       "      <td>Whole pie.</td>\n",
       "      <td>14.99 USD</td>\n",
       "      <td>3</td>\n",
       "      <td>4</td>\n",
       "      <td>2</td>\n",
       "    </tr>\n",
       "  </tbody>\n",
       "</table>\n",
       "</div>"
      ],
      "text/plain": [
       "   restaurant_id           category                                 name  \\\n",
       "0              1  Extra Large Pizza              Extra Large Meat Lovers   \n",
       "1              1  Extra Large Pizza                  Extra Large Supreme   \n",
       "2              1  Extra Large Pizza                Extra Large Pepperoni   \n",
       "3              1  Extra Large Pizza  Extra Large BBQ Chicken &amp; Bacon   \n",
       "4              1  Extra Large Pizza                 Extra Large 5 Cheese   \n",
       "\n",
       "  description      price  category_num_tokens  name_num_tokens  \\\n",
       "0  Whole pie.  15.99 USD                    3                4   \n",
       "1  Whole pie.  15.99 USD                    3                3   \n",
       "2  Whole pie.  14.99 USD                    3                3   \n",
       "3   Whole Pie  15.99 USD                    3                6   \n",
       "4  Whole pie.  14.99 USD                    3                4   \n",
       "\n",
       "   description_num_tokens  \n",
       "0                       2  \n",
       "1                       2  \n",
       "2                       2  \n",
       "3                       2  \n",
       "4                       2  "
      ]
     },
     "execution_count": 25,
     "metadata": {},
     "output_type": "execute_result"
    }
   ],
   "source": [
    "menusdf = menusdf[menusdf[\"description\"].notnull()].copy()\n",
    "menusdf.head()\n"
   ]
  },
  {
   "cell_type": "code",
   "execution_count": 5,
   "id": "6c976a40-b04c-4790-a0a7-e45dde8ade5f",
   "metadata": {},
   "outputs": [
    {
     "data": {
      "text/plain": [
       "(403240, 5)"
      ]
     },
     "execution_count": 5,
     "metadata": {},
     "output_type": "execute_result"
    }
   ],
   "source": [
    "menusdf.shape\n"
   ]
  },
  {
   "cell_type": "code",
   "execution_count": 6,
   "id": "0e08f7c9-c347-4a46-a2ba-0f2fd3d554f4",
   "metadata": {},
   "outputs": [
    {
     "data": {
      "text/plain": [
       "1"
      ]
     },
     "execution_count": 6,
     "metadata": {},
     "output_type": "execute_result"
    }
   ],
   "source": [
    "1"
   ]
  },
  {
   "cell_type": "markdown",
   "id": "1c353474-8b05-4b2a-80e0-7aad7d186b2d",
   "metadata": {},
   "source": [
    "## distribution of number of words in category, name, description"
   ]
  },
  {
   "cell_type": "code",
   "execution_count": 26,
   "id": "39cb68c8-a59a-4d07-a0fa-682c47692492",
   "metadata": {},
   "outputs": [
    {
     "data": {
      "image/png": "[encoded data removed]",
      "text/plain": [
       "<Figure size 864x864 with 4 Axes>"
      ]
     },
     "metadata": {},
     "output_type": "display_data"
    }
   ],
   "source": [
    "fig, ax = plt.subplots(figsize=(12,12))\n",
    "fig.patch.set_facecolor(\"xkcd:mint green\")\n",
    "for i, col in enumerate([\"category\", \"name\", \"description\"]):\n",
    "    menusdf[col + \"_num_tokens\"] = menusdf[col].map(lambda x: len(x.split(\" \"))) #  if isinstance(x, str) else 0\n",
    "    ax = fig.add_subplot(int(f\"31{i + 1}\"))\n",
    "    \n",
    "    ax.hist(menusdf[col + \"_num_tokens\"], bins=50)\n",
    "    ax.set(title=f\"{col} num tokens\")"
   ]
  },
  {
   "cell_type": "code",
   "execution_count": 10,
   "id": "d9c3c904-e26d-45db-afab-b008af065b86",
   "metadata": {},
   "outputs": [
    {
     "data": {
      "text/html": [
       "<div>\n",
       "<style scoped>\n",
       "    .dataframe tbody tr th:only-of-type {\n",
       "        vertical-align: middle;\n",
       "    }\n",
       "\n",
       "    .dataframe tbody tr th {\n",
       "        vertical-align: top;\n",
       "    }\n",
       "\n",
       "    .dataframe thead th {\n",
       "        text-align: right;\n",
       "    }\n",
       "</style>\n",
       "<table border=\"1\" class=\"dataframe\">\n",
       "  <thead>\n",
       "    <tr style=\"text-align: right;\">\n",
       "      <th></th>\n",
       "      <th>restaurant_id</th>\n",
       "      <th>category</th>\n",
       "      <th>name</th>\n",
       "      <th>description</th>\n",
       "      <th>price</th>\n",
       "      <th>category_num_tokens</th>\n",
       "      <th>name_num_tokens</th>\n",
       "      <th>description_num_tokens</th>\n",
       "    </tr>\n",
       "  </thead>\n",
       "  <tbody>\n",
       "    <tr>\n",
       "      <th>50463</th>\n",
       "      <td>688</td>\n",
       "      <td>Electronics &amp; Office</td>\n",
       "      <td>JLab Audio Wireless Earbuds - 1.0 ea</td>\n",
       "      <td>JBUDS PRO WIRELESS SIGNATURE EARBUDS Ready to ...</td>\n",
       "      <td>31.48 USD</td>\n",
       "      <td>3</td>\n",
       "      <td>7</td>\n",
       "      <td>82</td>\n",
       "    </tr>\n",
       "    <tr>\n",
       "      <th>50464</th>\n",
       "      <td>688</td>\n",
       "      <td>Electronics &amp; Office</td>\n",
       "      <td>Infinitive Micro SDHC Memory Card 32GB - 1.0 EA</td>\n",
       "      <td>Stores up to 600 Photos Stores up to 160 minut...</td>\n",
       "      <td>31.48 USD</td>\n",
       "      <td>3</td>\n",
       "      <td>9</td>\n",
       "      <td>60</td>\n",
       "    </tr>\n",
       "    <tr>\n",
       "      <th>50465</th>\n",
       "      <td>688</td>\n",
       "      <td>Pets</td>\n",
       "      <td>PetShoppe Pet Waste Bags 9\" x 12\" - 135.0 ea</td>\n",
       "      <td>15 bags per roll 9 rolls per unit Made in CHINA</td>\n",
       "      <td>9.43 USD</td>\n",
       "      <td>1</td>\n",
       "      <td>10</td>\n",
       "      <td>11</td>\n",
       "    </tr>\n",
       "    <tr>\n",
       "      <th>50466</th>\n",
       "      <td>688</td>\n",
       "      <td>Pets</td>\n",
       "      <td>Blue Buffalo Health Bars with Apples &amp; Yogurt ...</td>\n",
       "      <td>Tasty and healthy the perfect complement to yo...</td>\n",
       "      <td>8.17 USD</td>\n",
       "      <td>1</td>\n",
       "      <td>16</td>\n",
       "      <td>38</td>\n",
       "    </tr>\n",
       "    <tr>\n",
       "      <th>50467</th>\n",
       "      <td>688</td>\n",
       "      <td>Pets</td>\n",
       "      <td>Beggin Strips Dog Treats Bacon - 6.0 oz</td>\n",
       "      <td>Bacon flavored dog treats with real meat as th...</td>\n",
       "      <td>5.55 USD</td>\n",
       "      <td>1</td>\n",
       "      <td>8</td>\n",
       "      <td>86</td>\n",
       "    </tr>\n",
       "    <tr>\n",
       "      <th>50468</th>\n",
       "      <td>688</td>\n",
       "      <td>Pets</td>\n",
       "      <td>PetShoppe Nylon Dog Collar - 1.0 ea</td>\n",
       "      <td>Nylon dog collar for medium dogs. Medium breed...</td>\n",
       "      <td>6.28 USD</td>\n",
       "      <td>1</td>\n",
       "      <td>7</td>\n",
       "      <td>21</td>\n",
       "    </tr>\n",
       "    <tr>\n",
       "      <th>50469</th>\n",
       "      <td>688</td>\n",
       "      <td>Pets</td>\n",
       "      <td>PetShoppe Dog Training Pads - 50.0 ea</td>\n",
       "      <td>3.36 sq ft.(22 in X 22 in) Made in CHINA</td>\n",
       "      <td>28.33 USD</td>\n",
       "      <td>1</td>\n",
       "      <td>7</td>\n",
       "      <td>10</td>\n",
       "    </tr>\n",
       "    <tr>\n",
       "      <th>50470</th>\n",
       "      <td>688</td>\n",
       "      <td>Pets</td>\n",
       "      <td>Tidy Cats 24/7 Performance Cat Litter - 10.0 lb</td>\n",
       "      <td>Your Pet, Our Passion. At our company we're un...</td>\n",
       "      <td>4.5 USD</td>\n",
       "      <td>1</td>\n",
       "      <td>9</td>\n",
       "      <td>77</td>\n",
       "    </tr>\n",
       "    <tr>\n",
       "      <th>50471</th>\n",
       "      <td>688</td>\n",
       "      <td>Pets</td>\n",
       "      <td>PetShoppe Long Leg Tug Dog Toy Assortment - 1....</td>\n",
       "      <td>Tug my legs. walgreens.com. Questions or comme...</td>\n",
       "      <td>7.33 USD</td>\n",
       "      <td>1</td>\n",
       "      <td>13</td>\n",
       "      <td>11</td>\n",
       "    </tr>\n",
       "    <tr>\n",
       "      <th>50472</th>\n",
       "      <td>688</td>\n",
       "      <td>Pets</td>\n",
       "      <td>Iams ProActive Health Cat Food Indoor Weight C...</td>\n",
       "      <td>Helps maintain healthy weight in indoor cats H...</td>\n",
       "      <td>11.53 USD</td>\n",
       "      <td>1</td>\n",
       "      <td>14</td>\n",
       "      <td>74</td>\n",
       "    </tr>\n",
       "  </tbody>\n",
       "</table>\n",
       "</div>"
      ],
      "text/plain": [
       "       restaurant_id              category  \\\n",
       "50463            688  Electronics & Office   \n",
       "50464            688  Electronics & Office   \n",
       "50465            688                  Pets   \n",
       "50466            688                  Pets   \n",
       "50467            688                  Pets   \n",
       "50468            688                  Pets   \n",
       "50469            688                  Pets   \n",
       "50470            688                  Pets   \n",
       "50471            688                  Pets   \n",
       "50472            688                  Pets   \n",
       "\n",
       "                                                    name  \\\n",
       "50463               JLab Audio Wireless Earbuds - 1.0 ea   \n",
       "50464    Infinitive Micro SDHC Memory Card 32GB - 1.0 EA   \n",
       "50465       PetShoppe Pet Waste Bags 9\" x 12\" - 135.0 ea   \n",
       "50466  Blue Buffalo Health Bars with Apples & Yogurt ...   \n",
       "50467            Beggin Strips Dog Treats Bacon - 6.0 oz   \n",
       "50468                PetShoppe Nylon Dog Collar - 1.0 ea   \n",
       "50469              PetShoppe Dog Training Pads - 50.0 ea   \n",
       "50470    Tidy Cats 24/7 Performance Cat Litter - 10.0 lb   \n",
       "50471  PetShoppe Long Leg Tug Dog Toy Assortment - 1....   \n",
       "50472  Iams ProActive Health Cat Food Indoor Weight C...   \n",
       "\n",
       "                                             description      price  \\\n",
       "50463  JBUDS PRO WIRELESS SIGNATURE EARBUDS Ready to ...  31.48 USD   \n",
       "50464  Stores up to 600 Photos Stores up to 160 minut...  31.48 USD   \n",
       "50465    15 bags per roll 9 rolls per unit Made in CHINA   9.43 USD   \n",
       "50466  Tasty and healthy the perfect complement to yo...   8.17 USD   \n",
       "50467  Bacon flavored dog treats with real meat as th...   5.55 USD   \n",
       "50468  Nylon dog collar for medium dogs. Medium breed...   6.28 USD   \n",
       "50469           3.36 sq ft.(22 in X 22 in) Made in CHINA  28.33 USD   \n",
       "50470  Your Pet, Our Passion. At our company we're un...    4.5 USD   \n",
       "50471  Tug my legs. walgreens.com. Questions or comme...   7.33 USD   \n",
       "50472  Helps maintain healthy weight in indoor cats H...  11.53 USD   \n",
       "\n",
       "       category_num_tokens  name_num_tokens  description_num_tokens  \n",
       "50463                    3                7                      82  \n",
       "50464                    3                9                      60  \n",
       "50465                    1               10                      11  \n",
       "50466                    1               16                      38  \n",
       "50467                    1                8                      86  \n",
       "50468                    1                7                      21  \n",
       "50469                    1                7                      10  \n",
       "50470                    1                9                      77  \n",
       "50471                    1               13                      11  \n",
       "50472                    1               14                      74  "
      ]
     },
     "execution_count": 10,
     "metadata": {},
     "output_type": "execute_result"
    }
   ],
   "source": [
    "import random\n",
    "i = random.randint(1, menusdf.shape[0])\n",
    "menusdf.iloc[i: i + 10]"
   ]
  },
  {
   "cell_type": "code",
   "execution_count": 17,
   "id": "48ac2b32-8e3c-4fea-b635-c2acec8f2586",
   "metadata": {},
   "outputs": [
    {
     "name": "stdout",
     "output_type": "stream",
     "text": [
      "['Extra Large Pizza', 'Jumbo Wings', 'Spicy Jumbo Wings', 'Chicken Tenders', 'Snacks', 'Candy', 'Pastries', 'Coffee', 'Energy', 'Juice', 'Soda', 'Tea', 'Water', 'Smoothies', 'Espresso Shots', 'Latte', 'Jtizpuccino', 'Teas', 'Desserts', 'Breakfast (All-Day)']\n"
     ]
    }
   ],
   "source": [
    "print(menusdf.category.unique().tolist()[:20])"
   ]
  },
  {
   "cell_type": "code",
   "execution_count": 70,
   "id": "c9d79abc-6bf0-40a8-ad19-fbdfc6055aae",
   "metadata": {},
   "outputs": [],
   "source": [
    "menusdf[\"concat\"] = menusdf.apply(lambda x: f'{x[\"category\"]} {x[\"name\"]} {x[\"description\"]}', axis=1)"
   ]
  },
  {
   "cell_type": "code",
   "execution_count": 27,
   "id": "46b60004-e2fc-4627-8689-e4b6f3558f24",
   "metadata": {},
   "outputs": [
    {
     "data": {
      "text/plain": [
       "(0, 8)"
      ]
     },
     "execution_count": 27,
     "metadata": {},
     "output_type": "execute_result"
    }
   ],
   "source": [
    "menusdf[menusdf[\"name_num_tokens\"] == 0].shape"
   ]
  },
  {
   "cell_type": "markdown",
   "id": "f986a2b2-8dd5-4413-bcf0-ee8fe9772d9f",
   "metadata": {},
   "source": [
    "## Can we look at cos similarity between all pairs and look at the cos sim distribution \n"
   ]
  },
  {
   "cell_type": "code",
   "execution_count": 33,
   "id": "d05cf8e8-7eb9-473e-9b0c-0cb64297d7b2",
   "metadata": {},
   "outputs": [],
   "source": [
    "from sentence_transformers import SentenceTransformer, util\n",
    "from sentence_transformers.util import semantic_search, cos_sim\n",
    "import torch\n",
    "\n",
    "model_name = \"all-MiniLM-L12-v2\"\n",
    "embedder = SentenceTransformer(\n",
    "    #'msmarco-MiniLM-L-6-v3',\n",
    "    model_name,\n",
    "    use_auth_token=HF_TOKEN,\n",
    ")"
   ]
  },
  {
   "cell_type": "code",
   "execution_count": 31,
   "id": "ff8e89c3-282f-461f-b294-f1a8db8b93cc",
   "metadata": {},
   "outputs": [
    {
     "data": {
      "text/plain": [
       "\u001b[0;31mSignature:\u001b[0m \u001b[0mrandom\u001b[0m\u001b[0;34m.\u001b[0m\u001b[0mchoices\u001b[0m\u001b[0;34m(\u001b[0m\u001b[0mpopulation\u001b[0m\u001b[0;34m,\u001b[0m \u001b[0mweights\u001b[0m\u001b[0;34m=\u001b[0m\u001b[0;32mNone\u001b[0m\u001b[0;34m,\u001b[0m \u001b[0;34m*\u001b[0m\u001b[0;34m,\u001b[0m \u001b[0mcum_weights\u001b[0m\u001b[0;34m=\u001b[0m\u001b[0;32mNone\u001b[0m\u001b[0;34m,\u001b[0m \u001b[0mk\u001b[0m\u001b[0;34m=\u001b[0m\u001b[0;36m1\u001b[0m\u001b[0;34m)\u001b[0m\u001b[0;34m\u001b[0m\u001b[0;34m\u001b[0m\u001b[0m\n",
       "\u001b[0;31mDocstring:\u001b[0m\n",
       "Return a k sized list of population elements chosen with replacement.\n",
       "\n",
       "If the relative weights or cumulative weights are not specified,\n",
       "the selections are made with equal probability.\n",
       "\u001b[0;31mFile:\u001b[0m      ~/opt/miniconda3/envs/pandars310/lib/python3.10/random.py\n",
       "\u001b[0;31mType:\u001b[0m      method"
      ]
     },
     "metadata": {},
     "output_type": "display_data"
    }
   ],
   "source": []
  },
  {
   "cell_type": "code",
   "execution_count": 42,
   "id": "c81c8f2e-6e6f-479d-9c4b-6cfe99edcd94",
   "metadata": {},
   "outputs": [],
   "source": [
    "import numpy as np\n",
    "model = SentenceTransformer(model_name)\n",
    "all_sentences = menusdf[\"concat\"].tolist()\n",
    "sentences = np.random.choice(all_sentences, size=1000, replace=False)\n",
    "# Choose 1000 first try, \n",
    "paraphrases = util.paraphrase_mining(model, sentences)\n"
   ]
  },
  {
   "cell_type": "code",
   "execution_count": 44,
   "id": "fc38a390-7d8f-4627-9f18-a8e303434ca8",
   "metadata": {},
   "outputs": [
    {
     "data": {
      "text/plain": [
       "[1.0000003576278687, 633, 962]"
      ]
     },
     "execution_count": 44,
     "metadata": {},
     "output_type": "execute_result"
    }
   ],
   "source": [
    "paraphrases[0]"
   ]
  },
  {
   "cell_type": "code",
   "execution_count": 50,
   "id": "49951ddb-f141-4b99-8f7d-9d6b365eb4a7",
   "metadata": {},
   "outputs": [
    {
     "name": "stdout",
     "output_type": "stream",
     "text": [
      "Charbroiled Burgers Bacon &amp; Cheese Angus Burger Charbroiled Third Pound 100% black angus beef patty, crisp bacon, melted American cheese, tomato, lettuce, red onion, and mayonnaise, served on a potato bun.\n",
      " \n",
      "Charbroiled Burgers Original Angus Burger Charbroiled Third Pound 100% Angus Beef, melted American cheese, lettuce, tomato, red onions, pickles, mustard, mayonnaise and ketchup, served on a potato bun.  \n",
      " Score: 0.9498\n",
      "\n",
      "\n",
      "Fresh Melts® Ham &amp; Cheese Melt 6 Inch Melt Your cravings called, and we answered with melty goodness and fresh veggies, too. The Ham &amp; Cheese Melt combines Black Forest ham, fresh tomato and American cheese and grills them all up to create an indulgent choice that’s freshly made, too. \n",
      "Fresh Melts® Ham &amp; Cheese Melt Footlong Melt Your cravings called, and we answered with melty goodness and fresh veggies, too. The Ham &amp; Cheese Melt combines Black Forest ham, fresh tomato and American cheese and grills them all up to create an indulgent choice that’s freshly made, too. \n",
      " Score: 0.9455\n",
      "\n",
      "\n",
      "Sandwiches Pizza Sub Footlong Regular Sub Hot outta the oven, it’s the Pizza Sub. Enjoy spicy pepperoni, piled high and layered with melt-a-licious cheese and our signature marinara sauce. Try it on freshly baked Artisan Italian bread today. \n",
      "Sandwiches Pizza Sub 6 Inch Regular Sub Hot outta the oven, it’s the Pizza Sub. Enjoy spicy pepperoni, piled high and layered with melt-a-licious cheese and our signature marinara sauce. Try it on freshly baked Artisan Italian bread today. \n",
      " Score: 0.9409\n",
      "\n",
      "\n",
      "Sandwiches Oven Roasted Turkey Footlong Regular Sub If a classic is what you crave, our thin-sliced Oven Roasted Turkey is the sandwich for you. It’s full of flavor and made to order with your choice of crisp veggies, served on our freshly baked, Hearty Multigrain bread. \n",
      "Sandwiches Oven Roasted Turkey 6 Inch Regular Sub If a classic is what you crave, our thin-sliced Oven Roasted Turkey is the sandwich for you. It’s full of flavor and made to order with your choice of crisp veggies, served on our freshly baked, Hearty Multigrain bread. \n",
      " Score: 0.9365\n",
      "\n",
      "\n",
      "Seafood Scallop with Broccoli Served with rice. \n",
      "Seafood Scallops with Broccoli Served with white rice. \n",
      " Score: 0.9335\n",
      "\n",
      "\n"
     ]
    }
   ],
   "source": [
    "for paraphrase in [row for row in paraphrases if row[0] < .95][:5]:\n",
    "    score, i, j = paraphrase\n",
    "    print(\"{} \\n{} \\n Score: {:.4f}\\n\\n\".format(sentences[i], sentences[j], score))"
   ]
  },
  {
   "cell_type": "markdown",
   "id": "b8879d92-1186-42ce-afc3-54ce9b40c742",
   "metadata": {},
   "source": [
    "## maybe should only look for pairs perhaps with different restaurant ids ? \n",
    "\n"
   ]
  },
  {
   "cell_type": "code",
   "execution_count": 67,
   "id": "7a83c18b-6018-45a1-92aa-74ddf9b40f36",
   "metadata": {},
   "outputs": [
    {
     "data": {
      "text/plain": [
       "[(0, 1), (1, 1), (2, 1), (3, 1), (4, 1)]"
      ]
     },
     "execution_count": 67,
     "metadata": {},
     "output_type": "execute_result"
    }
   ],
   "source": [
    "restaurant_id_map = {i: x for i, x in enumerate(menusdf[\"restaurant_id\"].tolist())}\n",
    "list(restaurant_id_map.items())[:5]"
   ]
  },
  {
   "cell_type": "code",
   "execution_count": 58,
   "id": "c21ca7fc-7745-402f-af03-40c553830199",
   "metadata": {},
   "outputs": [
    {
     "name": "stdout",
     "output_type": "stream",
     "text": [
      "Breakfast Black Forest Ham, Egg &amp; Cheese Wrap Helllooo delicious! Enjoy a Spinach wrap filled with American cheese and a double portion of savory Black Forest ham and egg. What a tasty way to start the day! (restaurant=14)\n",
      "Breakfast Black Forest Ham, Egg &amp; Cheese Wrap Helllooo delicious! Enjoy a Spinach wrap filled with American cheese and a double portion of savory Black Forest ham and egg. What a tasty way to start the day! (restaurant=20)\n",
      " Score: 1.0000\n",
      "\n",
      "\n",
      "Specialties Black Bean Chalupa Supreme® A chewy chalupa shell filled with black beans, reduced-fat sour cream, lettuce, tomatoes, and three-cheese blend. (restaurant=1)\n",
      "Specialties Black Bean Chalupa Supreme® A chewy chalupa shell filled with black beans, reduced-fat sour cream, lettuce, tomatoes, and three-cheese blend. (restaurant=12)\n",
      " Score: 1.0000\n",
      "\n",
      "\n",
      "Allergy Season Claritin 24 Hour Allergy Relief Tablets - 30.0 ea Claritin√Ç¬Æ tablets provide powerful, 24 hour, non-drowsy relief of your worst indoor and outdoor allergy symptoms, including sneezing, runny nose, itchy/watery eyes, itchy throat/nose. Claritin√Ç¬Æ provides relief of symptoms that can be triggered by over 200 different allergens. Claritin√Ç¬Æ is an antihistamine, so it hinders the cascade triggered by allergens. For adults and children ages 6+. One tablet contains 10mg of loratadine. Powerful, 24-hour, non-drowsy indoor and outdoor allergy relief #1 (restaurant=1)\n",
      "Allergy Season Claritin 24 Hour Allergy Relief Tablets - 30.0 ea Claritin√Ç¬Æ tablets provide powerful, 24 hour, non-drowsy relief of your worst indoor and outdoor allergy symptoms, including sneezing, runny nose, itchy/watery eyes, itchy throat/nose. Claritin√Ç¬Æ provides relief of symptoms that can be triggered by over 200 different allergens. Claritin√Ç¬Æ is an antihistamine, so it hinders the cascade triggered by allergens. For adults and children ages 6+. One tablet contains 10mg of loratadine. Powerful, 24-hour, non-drowsy indoor and outdoor allergy relief #1 (restaurant=15)\n",
      " Score: 1.0000\n",
      "\n",
      "\n",
      "Drinks Coca-Cola® Classic  Crisp, refreshing, original taste. (restaurant=14)\n",
      "Drinks Coca-Cola® Classic  Crisp, refreshing, original taste. (restaurant=16)\n",
      " Score: 1.0000\n",
      "\n",
      "\n",
      "Sandwiches Cold Cut Combo® 6 Inch Regular Sub The Cold Cut Combo® sandwich with ham, salami, and bologna (all turkey based) is a long-time Subway® favorite. Yeah. It's that good. (restaurant=21)\n",
      "Sandwiches Cold Cut Combo® 6 Inch Regular Sub The Cold Cut Combo® sandwich with ham, salami, and bologna (all turkey based) is a long-time Subway® favorite. Yeah. It's that good. (restaurant=23)\n",
      " Score: 1.0000\n",
      "\n",
      "\n"
     ]
    }
   ],
   "source": [
    "# paraphrases_with_restaurant_ids = [x for x in paraphrases ]\n",
    "for paraphrase in [row for row in paraphrases \n",
    "                   if (row[0] < 1\n",
    "                   and (restaurant_id_map[row[1]] != restaurant_id_map[row[2]])) \n",
    "                  ][:5]:\n",
    "    score, i, j = paraphrase\n",
    "    restaurant_id_1, restaurant_id_2 = (restaurant_id_map[i], restaurant_id_map[j])\n",
    "    print(\n",
    "        f\"{sentences[i]} (restaurant={restaurant_id_1})\\n{sentences[j]} (restaurant={restaurant_id_2})\\n Score: {score:.4f}\\n\\n\" \n",
    "    # .format(sentences[i], sentences[j], score)\n",
    "         )"
   ]
  },
  {
   "cell_type": "markdown",
   "id": "7cda0655-90fb-4ea9-9be4-02f5e3483a72",
   "metadata": {},
   "source": [
    "## hmm above did not quite work, \n",
    "maybe they are just different restaurants of same chain ? "
   ]
  },
  {
   "cell_type": "code",
   "execution_count": 66,
   "id": "c174d9c2-a214-44c5-b6df-1d359a9e5197",
   "metadata": {},
   "outputs": [
    {
     "name": "stdout",
     "output_type": "stream",
     "text": [
      "    id  position                           name  \\\n",
      "20  21        43           Magic City Nutrition   \n",
      "22  23        37  Golden Temple Vegetarian Cafe   \n",
      "\n",
      "                                           category  \n",
      "20  Juice and Smoothies, Bubble Tea, Healthy, Fruit  \n",
      "22        Juice and Smoothies, Drinks, Comfort Food  \n",
      "    id  position                                      name  \\\n",
      "13  14        51              Panera (521 Fieldstown Road)   \n",
      "15  16        88  Jeni's Splendid Ice Cream (Pepper Place)   \n",
      "\n",
      "                                             category  \n",
      "13  Breakfast and Brunch, salad, Sandwich, Family ...  \n",
      "15  Ice Cream &amp; Frozen Yogurt, Comfort Food, D...  \n"
     ]
    }
   ],
   "source": [
    "print(restaurantsdf.iloc[[20,22]][[\"id\", \"position\", \"name\", \"category\"]])\n",
    "print(restaurantsdf.iloc[[13, 15]][[\"id\", \"position\", \"name\", \"category\"]])"
   ]
  },
  {
   "cell_type": "markdown",
   "id": "3be23303-a22e-4900-b569-710809f0ac34",
   "metadata": {},
   "source": [
    "## Hmm ok but think  I have to save original row id actually because when I sampled, now that got changed. \n"
   ]
  },
  {
   "cell_type": "code",
   "execution_count": 69,
   "id": "400070b2-c4cd-48d8-a833-c30fe1076f4e",
   "metadata": {},
   "outputs": [
    {
     "data": {
      "text/plain": [
       "restaurant_id                          1\n",
       "category               Extra Large Pizza\n",
       "name             Extra Large Meat Lovers\n",
       "description                   Whole pie.\n",
       "price                          15.99 USD\n",
       "Name: 0, dtype: object"
      ]
     },
     "execution_count": 69,
     "metadata": {},
     "output_type": "execute_result"
    }
   ],
   "source": [
    "menusdf.iloc[0]"
   ]
  },
  {
   "cell_type": "code",
   "execution_count": 71,
   "id": "e925d62b-d911-4560-8da5-48299bec2fab",
   "metadata": {},
   "outputs": [
    {
     "ename": "AttributeError",
     "evalue": "'DataFrame' object has no attribute 'tolist'",
     "output_type": "error",
     "traceback": [
      "\u001b[0;31m---------------------------------------------------------------------------\u001b[0m",
      "\u001b[0;31mAttributeError\u001b[0m                            Traceback (most recent call last)",
      "\u001b[0;32m/var/folders/kw/2jghyyfs17d7_bcj4d08y9jw0000gn/T/ipykernel_13905/989396136.py\u001b[0m in \u001b[0;36m?\u001b[0;34m()\u001b[0m\n\u001b[0;32m----> 1\u001b[0;31m \u001b[0mall_sentences\u001b[0m \u001b[0;34m=\u001b[0m \u001b[0mmenusdf\u001b[0m\u001b[0;34m[\u001b[0m\u001b[0;34m[\u001b[0m\u001b[0;34m\"restaurant_id\"\u001b[0m\u001b[0;34m,\u001b[0m \u001b[0;34m\"concat\"\u001b[0m\u001b[0;34m]\u001b[0m\u001b[0;34m]\u001b[0m\u001b[0;34m.\u001b[0m\u001b[0mtolist\u001b[0m\u001b[0;34m(\u001b[0m\u001b[0;34m)\u001b[0m\u001b[0;34m\u001b[0m\u001b[0;34m\u001b[0m\u001b[0m\n\u001b[0m\u001b[1;32m      2\u001b[0m \u001b[0msentences\u001b[0m \u001b[0;34m=\u001b[0m \u001b[0mnp\u001b[0m\u001b[0;34m.\u001b[0m\u001b[0mrandom\u001b[0m\u001b[0;34m.\u001b[0m\u001b[0mchoice\u001b[0m\u001b[0;34m(\u001b[0m\u001b[0mall_sentences\u001b[0m\u001b[0;34m,\u001b[0m \u001b[0msize\u001b[0m\u001b[0;34m=\u001b[0m\u001b[0;36m1000\u001b[0m\u001b[0;34m,\u001b[0m \u001b[0mreplace\u001b[0m\u001b[0;34m=\u001b[0m\u001b[0;32mFalse\u001b[0m\u001b[0;34m)\u001b[0m\u001b[0;34m\u001b[0m\u001b[0;34m\u001b[0m\u001b[0m\n\u001b[1;32m      3\u001b[0m \u001b[0;31m# Choose 1000 first try,\u001b[0m\u001b[0;34m\u001b[0m\u001b[0;34m\u001b[0m\u001b[0m\n\u001b[1;32m      4\u001b[0m \u001b[0;31m# paraphrases = util.paraphrase_mining(model, sentences)\u001b[0m\u001b[0;34m\u001b[0m\u001b[0;34m\u001b[0m\u001b[0m\n",
      "\u001b[0;32m~/opt/miniconda3/envs/pandars310/lib/python3.10/site-packages/pandas/core/generic.py\u001b[0m in \u001b[0;36m?\u001b[0;34m(self, name)\u001b[0m\n\u001b[1;32m   5483\u001b[0m             \u001b[0;32mand\u001b[0m \u001b[0mname\u001b[0m \u001b[0;32mnot\u001b[0m \u001b[0;32min\u001b[0m \u001b[0mself\u001b[0m\u001b[0;34m.\u001b[0m\u001b[0m_accessors\u001b[0m\u001b[0;34m\u001b[0m\u001b[0;34m\u001b[0m\u001b[0m\n\u001b[1;32m   5484\u001b[0m             \u001b[0;32mand\u001b[0m \u001b[0mself\u001b[0m\u001b[0;34m.\u001b[0m\u001b[0m_info_axis\u001b[0m\u001b[0;34m.\u001b[0m\u001b[0m_can_hold_identifiers_and_holds_name\u001b[0m\u001b[0;34m(\u001b[0m\u001b[0mname\u001b[0m\u001b[0;34m)\u001b[0m\u001b[0;34m\u001b[0m\u001b[0;34m\u001b[0m\u001b[0m\n\u001b[1;32m   5485\u001b[0m         ):\n\u001b[1;32m   5486\u001b[0m             \u001b[0;32mreturn\u001b[0m \u001b[0mself\u001b[0m\u001b[0;34m[\u001b[0m\u001b[0mname\u001b[0m\u001b[0;34m]\u001b[0m\u001b[0;34m\u001b[0m\u001b[0;34m\u001b[0m\u001b[0m\n\u001b[0;32m-> 5487\u001b[0;31m         \u001b[0;32mreturn\u001b[0m \u001b[0mobject\u001b[0m\u001b[0;34m.\u001b[0m\u001b[0m__getattribute__\u001b[0m\u001b[0;34m(\u001b[0m\u001b[0mself\u001b[0m\u001b[0;34m,\u001b[0m \u001b[0mname\u001b[0m\u001b[0;34m)\u001b[0m\u001b[0;34m\u001b[0m\u001b[0;34m\u001b[0m\u001b[0m\n\u001b[0m",
      "\u001b[0;31mAttributeError\u001b[0m: 'DataFrame' object has no attribute 'tolist'"
     ]
    }
   ],
   "source": [
    "sampledf = menusdf.sample(n=1000).reset_index()\n",
    "restaurant_id_map = {i: x for i, x in enumerate(sampledf[\"restaurant_id\"].tolist())}\n",
    "list(restaurant_id_map.items())[:5]\n",
    "all_sentences = menusdf[\"concat\"].tolist()\n",
    "# sentences = np.random.choice(all_sentences, size=1000, replace=False)\n",
    "# Choose 1000 first try, \n",
    "# paraphrases = util.paraphrase_mining(model, sentences)\n",
    "sentences[:5]"
   ]
  },
  {
   "cell_type": "code",
   "execution_count": null,
   "id": "8dd40c4e-c6a7-4950-9871-15cf695d9d2c",
   "metadata": {},
   "outputs": [],
   "source": [
    "corpus = \n",
    "corpus_embeddings = embedder.encode(corpus, convert_to_tensor=True)"
   ]
  },
  {
   "cell_type": "markdown",
   "id": "e3a349fa-c375-46f8-be67-6a65d3230a56",
   "metadata": {},
   "source": [
    "## Lets embed all the stuff and lets look at how they look within that 2d embedding space \n",
    "Lets use cohere and its dense retrieval "
   ]
  },
  {
   "cell_type": "code",
   "execution_count": 9,
   "id": "cac769c5-ff24-4594-bfd1-ef5d251e34ef",
   "metadata": {},
   "outputs": [],
   "source": [
    "import cohere\n",
    "import umap\n",
    "import altair as alt"
   ]
  },
  {
   "cell_type": "code",
   "execution_count": 10,
   "id": "58d3fa99-cf13-4758-805b-665d253dafc1",
   "metadata": {},
   "outputs": [],
   "source": [
    "from numba.core.errors import NumbaDeprecationWarning, NumbaPendingDeprecationWarning\n",
    "import warnings\n"
   ]
  },
  {
   "cell_type": "code",
   "execution_count": 11,
   "id": "934c491b-664e-4fa5-855a-512a413e0be6",
   "metadata": {},
   "outputs": [],
   "source": [
    "from jovyan_utils import umap_plot"
   ]
  },
  {
   "cell_type": "code",
   "execution_count": 12,
   "id": "c5a04e57-8c94-4b42-a55e-e0d2885a3cf8",
   "metadata": {},
   "outputs": [
    {
     "name": "stdout",
     "output_type": "stream",
     "text": [
      "Query:\n",
      " Everybody Loves Raynaud \n",
      "\n",
      "Everybody Loves cold fingers (Score: 0.4929)\n",
      "Everybody Loves Numbness (Score: 0.4379)\n",
      "blocked flow of blood in fingers (Score: 0.4075)\n",
      "Everybody Loves Riynudno (Score: 0.3814)\n",
      "Everybody Loves Raymond (Score: 0.3706)\n",
      "blood vessels go into a temporary spasm (Score: 0.3055)\n",
      "Everybody Loves Reindeer (Score: 0.2809)\n"
     ]
    }
   ],
   "source": [
    "\n",
    "\n",
    "corpus = [\"Everybody Loves Raymond\",\n",
    "         \"blood vessels go into a temporary spasm\",\n",
    "         \"blocked flow of blood in fingers\",\n",
    "         \"Everybody Loves Numbness\",\n",
    "         \"Everybody Loves cold fingers\",\n",
    "         \"Everybody Loves Reindeer\",\n",
    "         \"Everybody Loves Riynudno\"]\n",
    "corpus_embeddings = embedder.encode(corpus, convert_to_tensor=True)\n",
    "\n",
    "query = \"Everybody Loves Raynaud\"\n",
    "query_embedding = embedder.encode(query, convert_to_tensor=True)\n",
    "\n",
    "cos_scores = cos_sim(query_embedding, corpus_embeddings)[0]\n",
    "top_results = torch.topk(cos_scores, k=7)\n",
    "\n",
    "cos_scores, top_results\n",
    "\n",
    "print(\"Query:\\n\", query, \"\\n\")\n",
    "\n",
    "for score, idx in zip(top_results[0], top_results[1]):\n",
    "    print(corpus[idx].strip(), \"(Score: {:.4f})\".format(score))\n"
   ]
  },
  {
   "cell_type": "code",
   "execution_count": 13,
   "id": "64a97bde-dc3a-44ae-9bbb-9c0733fbca12",
   "metadata": {},
   "outputs": [
    {
     "data": {
      "text/plain": [
       "tensor([[-0.0386, -0.0912, -0.0590,  ...,  0.0342,  0.0336, -0.0264],\n",
       "        [-0.0397,  0.0058,  0.0856,  ...,  0.0248,  0.0532, -0.0036],\n",
       "        [-0.0416, -0.0047,  0.0063,  ..., -0.0189, -0.0552,  0.0395],\n",
       "        ...,\n",
       "        [-0.1101, -0.0767, -0.0392,  ..., -0.0364, -0.0638,  0.0770],\n",
       "        [-0.0927,  0.0005,  0.0201,  ..., -0.0289,  0.0254, -0.0414],\n",
       "        [-0.1215, -0.1445, -0.0009,  ...,  0.0009,  0.0678, -0.0409]])"
      ]
     },
     "execution_count": 13,
     "metadata": {},
     "output_type": "execute_result"
    }
   ],
   "source": [
    "corpus_embeddings"
   ]
  },
  {
   "cell_type": "code",
   "execution_count": 14,
   "id": "31ec69e4-8124-44e7-baad-80225bae71d0",
   "metadata": {},
   "outputs": [],
   "source": [
    "emb = corpus_embeddings.tolist()"
   ]
  },
  {
   "cell_type": "code",
   "execution_count": null,
   "id": "d1f5d3cc-519c-4057-9aea-868180efd0b1",
   "metadata": {},
   "outputs": [
    {
     "name": "stderr",
     "output_type": "stream",
     "text": [
      "OMP: Info #276: omp_set_nested routine deprecated, please use omp_set_max_active_levels instead.\n"
     ]
    }
   ],
   "source": [
    "reducer = umap.UMAP(n_neighbors=2)\n",
    "umap_embeds = reducer.fit_transform(emb)\n"
   ]
  },
  {
   "cell_type": "code",
   "execution_count": null,
   "id": "77244d04-53eb-48a2-a4e7-e67f7d148498",
   "metadata": {},
   "outputs": [
    {
     "name": "stderr",
     "output_type": "stream",
     "text": [
      "OMP: Info #276: omp_set_nested routine deprecated, please use omp_set_max_active_levels instead.\n"
     ]
    }
   ],
   "source": [
    "sentences = pd.DataFrame({\"text\": corpus})\n",
    "chart = umap_plot(sentences, corpus_embeddings)\n",
    "chart.interactive()"
   ]
  },
  {
   "cell_type": "code",
   "execution_count": null,
   "id": "671f17ce-55e6-48e8-bf0c-745aac2c6ec6",
   "metadata": {},
   "outputs": [],
   "source": [
    "corpus_embeddings[:, :3]\n"
   ]
  },
  {
   "cell_type": "code",
   "execution_count": null,
   "id": "ac18bd90-6529-4364-be02-8ca5993d49e6",
   "metadata": {},
   "outputs": [],
   "source": []
  }
 ],
 "metadata": {
  "kernelspec": {
   "display_name": "Python 3 (ipykernel)",
   "language": "python",
   "name": "python3"
  },
  "language_info": {
   "codemirror_mode": {
    "name": "ipython",
    "version": 3
   },
   "file_extension": ".py",
   "mimetype": "text/x-python",
   "name": "python",
   "nbconvert_exporter": "python",
   "pygments_lexer": "ipython3",
   "version": "3.10.0"
  }
 },
 "nbformat": 4,
 "nbformat_minor": 5
}
