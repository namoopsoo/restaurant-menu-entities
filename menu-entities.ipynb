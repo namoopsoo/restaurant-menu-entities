{
 "cells": [
  {
   "cell_type": "markdown",
   "id": "2bfa3580-54f9-4214-b082-8715d1691ead",
   "metadata": {},
   "source": [
    "## Initial stab at applying cosine similarity on restaurant menu data\n",
    "Below uses Uber Eats data from a Kaggle dataset, and does a paraphrase-mining on menu items.\n",
    "\n",
    "Current stage of the below exploration code is that the data has actually many very similar items from different restaurants that are part of the same restaurant chains, such as McDonalds and this is creating paraphrase mining results that are nearly identical.\n",
    "\n",
    "A future goal is to dedupe by chain. "
   ]
  },
  {
   "cell_type": "code",
   "execution_count": 1,
   "id": "521a6d68-74ab-4985-9666-f7ffa7bfdaea",
   "metadata": {},
   "outputs": [],
   "source": [
    "import pandas as pd\n",
    "from pathlib import Path\n",
    "from dotenv import dotenv_values\n",
    "import matplotlib.pyplot as plt"
   ]
  },
  {
   "cell_type": "code",
   "execution_count": 2,
   "id": "dfe73af0-3a38-4ea6-83ec-dffcf75abfaf",
   "metadata": {},
   "outputs": [],
   "source": [
    "DATA_DIR = dotenv_values()[\"DATA_DIR\"]\n",
    "HF_TOKEN = dotenv_values()[\"HF_TOKEN\"]"
   ]
  },
  {
   "cell_type": "markdown",
   "id": "6210696a-51f3-4744-af85-18b52ae61b49",
   "metadata": {},
   "source": [
    "## Pulled data from kaggle here \n",
    "https://www.kaggle.com/code/sadeghjalalian/uber-eats-restaurant-menus/input?select=restaurants.csv  "
   ]
  },
  {
   "cell_type": "code",
   "execution_count": 95,
   "id": "e53e7590-9f1c-4a40-910f-df271e681a7a",
   "metadata": {},
   "outputs": [],
   "source": [
    "menusdf = pd.read_csv(Path(DATA_DIR) / \"restaurant-menus.csv\")\n",
    "menusdf = menusdf[menusdf[\"description\"].notnull()].copy()\n",
    "restaurantsdf = pd.read_csv(Path(DATA_DIR) / \"restaurants.csv\")"
   ]
  },
  {
   "cell_type": "markdown",
   "id": "81f5d55b-975b-4355-84cb-1e99bed8b866",
   "metadata": {},
   "source": [
    "Some of the descriptions were null, so lets take non-nulls only"
   ]
  },
  {
   "cell_type": "code",
   "execution_count": 25,
   "id": "336b085d-c30a-4623-bfc0-5a6f31485e48",
   "metadata": {},
   "outputs": [
    {
     "data": {
      "text/html": [
       "<div>\n",
       "<style scoped>\n",
       "    .dataframe tbody tr th:only-of-type {\n",
       "        vertical-align: middle;\n",
       "    }\n",
       "\n",
       "    .dataframe tbody tr th {\n",
       "        vertical-align: top;\n",
       "    }\n",
       "\n",
       "    .dataframe thead th {\n",
       "        text-align: right;\n",
       "    }\n",
       "</style>\n",
       "<table border=\"1\" class=\"dataframe\">\n",
       "  <thead>\n",
       "    <tr style=\"text-align: right;\">\n",
       "      <th></th>\n",
       "      <th>restaurant_id</th>\n",
       "      <th>category</th>\n",
       "      <th>name</th>\n",
       "      <th>description</th>\n",
       "      <th>price</th>\n",
       "      <th>category_num_tokens</th>\n",
       "      <th>name_num_tokens</th>\n",
       "      <th>description_num_tokens</th>\n",
       "    </tr>\n",
       "  </thead>\n",
       "  <tbody>\n",
       "    <tr>\n",
       "      <th>0</th>\n",
       "      <td>1</td>\n",
       "      <td>Extra Large Pizza</td>\n",
       "      <td>Extra Large Meat Lovers</td>\n",
       "      <td>Whole pie.</td>\n",
       "      <td>15.99 USD</td>\n",
       "      <td>3</td>\n",
       "      <td>4</td>\n",
       "      <td>2</td>\n",
       "    </tr>\n",
       "    <tr>\n",
       "      <th>1</th>\n",
       "      <td>1</td>\n",
       "      <td>Extra Large Pizza</td>\n",
       "      <td>Extra Large Supreme</td>\n",
       "      <td>Whole pie.</td>\n",
       "      <td>15.99 USD</td>\n",
       "      <td>3</td>\n",
       "      <td>3</td>\n",
       "      <td>2</td>\n",
       "    </tr>\n",
       "    <tr>\n",
       "      <th>2</th>\n",
       "      <td>1</td>\n",
       "      <td>Extra Large Pizza</td>\n",
       "      <td>Extra Large Pepperoni</td>\n",
       "      <td>Whole pie.</td>\n",
       "      <td>14.99 USD</td>\n",
       "      <td>3</td>\n",
       "      <td>3</td>\n",
       "      <td>2</td>\n",
       "    </tr>\n",
       "    <tr>\n",
       "      <th>3</th>\n",
       "      <td>1</td>\n",
       "      <td>Extra Large Pizza</td>\n",
       "      <td>Extra Large BBQ Chicken &amp;amp; Bacon</td>\n",
       "      <td>Whole Pie</td>\n",
       "      <td>15.99 USD</td>\n",
       "      <td>3</td>\n",
       "      <td>6</td>\n",
       "      <td>2</td>\n",
       "    </tr>\n",
       "    <tr>\n",
       "      <th>4</th>\n",
       "      <td>1</td>\n",
       "      <td>Extra Large Pizza</td>\n",
       "      <td>Extra Large 5 Cheese</td>\n",
       "      <td>Whole pie.</td>\n",
       "      <td>14.99 USD</td>\n",
       "      <td>3</td>\n",
       "      <td>4</td>\n",
       "      <td>2</td>\n",
       "    </tr>\n",
       "  </tbody>\n",
       "</table>\n",
       "</div>"
      ],
      "text/plain": [
       "   restaurant_id           category                                 name  \\\n",
       "0              1  Extra Large Pizza              Extra Large Meat Lovers   \n",
       "1              1  Extra Large Pizza                  Extra Large Supreme   \n",
       "2              1  Extra Large Pizza                Extra Large Pepperoni   \n",
       "3              1  Extra Large Pizza  Extra Large BBQ Chicken &amp; Bacon   \n",
       "4              1  Extra Large Pizza                 Extra Large 5 Cheese   \n",
       "\n",
       "  description      price  category_num_tokens  name_num_tokens  \\\n",
       "0  Whole pie.  15.99 USD                    3                4   \n",
       "1  Whole pie.  15.99 USD                    3                3   \n",
       "2  Whole pie.  14.99 USD                    3                3   \n",
       "3   Whole Pie  15.99 USD                    3                6   \n",
       "4  Whole pie.  14.99 USD                    3                4   \n",
       "\n",
       "   description_num_tokens  \n",
       "0                       2  \n",
       "1                       2  \n",
       "2                       2  \n",
       "3                       2  \n",
       "4                       2  "
      ]
     },
     "execution_count": 25,
     "metadata": {},
     "output_type": "execute_result"
    }
   ],
   "source": [
    "\n",
    "menusdf.head()\n"
   ]
  },
  {
   "cell_type": "code",
   "execution_count": 5,
   "id": "6c976a40-b04c-4790-a0a7-e45dde8ade5f",
   "metadata": {},
   "outputs": [
    {
     "data": {
      "text/plain": [
       "(403240, 5)"
      ]
     },
     "execution_count": 5,
     "metadata": {},
     "output_type": "execute_result"
    }
   ],
   "source": [
    "menusdf.shape\n"
   ]
  },
  {
   "cell_type": "code",
   "execution_count": 96,
   "id": "0e08f7c9-c347-4a46-a2ba-0f2fd3d554f4",
   "metadata": {},
   "outputs": [
    {
     "data": {
      "text/html": [
       "<div>\n",
       "<style scoped>\n",
       "    .dataframe tbody tr th:only-of-type {\n",
       "        vertical-align: middle;\n",
       "    }\n",
       "\n",
       "    .dataframe tbody tr th {\n",
       "        vertical-align: top;\n",
       "    }\n",
       "\n",
       "    .dataframe thead th {\n",
       "        text-align: right;\n",
       "    }\n",
       "</style>\n",
       "<table border=\"1\" class=\"dataframe\">\n",
       "  <thead>\n",
       "    <tr style=\"text-align: right;\">\n",
       "      <th></th>\n",
       "      <th>restaurant_id</th>\n",
       "      <th>category</th>\n",
       "      <th>name</th>\n",
       "      <th>description</th>\n",
       "      <th>price</th>\n",
       "    </tr>\n",
       "  </thead>\n",
       "  <tbody>\n",
       "  </tbody>\n",
       "</table>\n",
       "</div>"
      ],
      "text/plain": [
       "Empty DataFrame\n",
       "Columns: [restaurant_id, category, name, description, price]\n",
       "Index: []"
      ]
     },
     "execution_count": 96,
     "metadata": {},
     "output_type": "execute_result"
    }
   ],
   "source": [
    "menusdf[menusdf[\"description\"].isnull()].head()"
   ]
  },
  {
   "cell_type": "markdown",
   "id": "1c353474-8b05-4b2a-80e0-7aad7d186b2d",
   "metadata": {},
   "source": [
    "## distribution of number of words in category, name, description"
   ]
  },
  {
   "cell_type": "code",
   "execution_count": 101,
   "id": "39cb68c8-a59a-4d07-a0fa-682c47692492",
   "metadata": {},
   "outputs": [
    {
     "data": {
      "image/png": "[encoded data removed]",
      "text/plain": [
       "<Figure size 864x432 with 3 Axes>"
      ]
     },
     "metadata": {},
     "output_type": "display_data"
    }
   ],
   "source": [
    "fig, axes = plt.subplots(figsize=(12,6), nrows=3, ncols=1)\n",
    "fig.patch.set_facecolor(\"xkcd:mint green\")\n",
    "plt.tight_layout()\n",
    "for i, col in enumerate([\"category\", \"name\", \"description\"]):\n",
    "\n",
    "    menusdf[col + \"_num_tokens\"] = menusdf[col].map(lambda x: len(x.split(\" \"))) #  if isinstance(x, str) else 0\n",
    "    ax = axes[i] #fig.add_subplot(int(f\"31{i + 1}\"))\n",
    "    \n",
    "    ax.hist(menusdf[col + \"_num_tokens\"], bins=50)\n",
    "    ax.set(title=f\"{col} num tokens\")"
   ]
  },
  {
   "cell_type": "code",
   "execution_count": 105,
   "id": "c7fc0231-a7aa-4303-97d4-0401205ba178",
   "metadata": {},
   "outputs": [
    {
     "data": {
      "text/html": [
       "<div>\n",
       "<style scoped>\n",
       "    .dataframe tbody tr th:only-of-type {\n",
       "        vertical-align: middle;\n",
       "    }\n",
       "\n",
       "    .dataframe tbody tr th {\n",
       "        vertical-align: top;\n",
       "    }\n",
       "\n",
       "    .dataframe thead th {\n",
       "        text-align: right;\n",
       "    }\n",
       "</style>\n",
       "<table border=\"1\" class=\"dataframe\">\n",
       "  <thead>\n",
       "    <tr style=\"text-align: right;\">\n",
       "      <th></th>\n",
       "      <th>restaurant_id</th>\n",
       "      <th>category</th>\n",
       "      <th>name</th>\n",
       "      <th>description</th>\n",
       "      <th>price</th>\n",
       "      <th>category_num_tokens</th>\n",
       "      <th>name_num_tokens</th>\n",
       "      <th>description_num_tokens</th>\n",
       "    </tr>\n",
       "  </thead>\n",
       "  <tbody>\n",
       "    <tr>\n",
       "      <th>50157</th>\n",
       "      <td>687</td>\n",
       "      <td>Personal Care</td>\n",
       "      <td>Degree Antiperspirant Deodorant Black+White Pu...</td>\n",
       "      <td>Degree is upgrading to our best formula yet. O...</td>\n",
       "      <td>6.79 USD</td>\n",
       "      <td>2</td>\n",
       "      <td>18</td>\n",
       "      <td>637</td>\n",
       "    </tr>\n",
       "    <tr>\n",
       "      <th>393401</th>\n",
       "      <td>4887</td>\n",
       "      <td>Personal Care</td>\n",
       "      <td>Degree Antiperspirant Deodorant Black+White Pu...</td>\n",
       "      <td>Degree is upgrading to our best formula yet. O...</td>\n",
       "      <td>6.79 USD</td>\n",
       "      <td>2</td>\n",
       "      <td>18</td>\n",
       "      <td>637</td>\n",
       "    </tr>\n",
       "    <tr>\n",
       "      <th>295212</th>\n",
       "      <td>3771</td>\n",
       "      <td>Personal Care</td>\n",
       "      <td>Degree Antiperspirant Deodorant Black+White Pu...</td>\n",
       "      <td>Degree is upgrading to our best formula yet. O...</td>\n",
       "      <td>6.79 USD</td>\n",
       "      <td>2</td>\n",
       "      <td>18</td>\n",
       "      <td>637</td>\n",
       "    </tr>\n",
       "    <tr>\n",
       "      <th>171704</th>\n",
       "      <td>2345</td>\n",
       "      <td>Personal Care</td>\n",
       "      <td>Degree Antiperspirant Deodorant Black+White Pu...</td>\n",
       "      <td>Degree is upgrading to our best formula yet. O...</td>\n",
       "      <td>7.29 USD</td>\n",
       "      <td>2</td>\n",
       "      <td>18</td>\n",
       "      <td>637</td>\n",
       "    </tr>\n",
       "    <tr>\n",
       "      <th>283238</th>\n",
       "      <td>3631</td>\n",
       "      <td>Beauty</td>\n",
       "      <td>Dove Deep Moisture Body Wash Pump For Dry Skin...</td>\n",
       "      <td>Looking for a skin cleanser that helps you get...</td>\n",
       "      <td>14.49 USD</td>\n",
       "      <td>1</td>\n",
       "      <td>15</td>\n",
       "      <td>556</td>\n",
       "    </tr>\n",
       "  </tbody>\n",
       "</table>\n",
       "</div>"
      ],
      "text/plain": [
       "        restaurant_id       category  \\\n",
       "50157             687  Personal Care   \n",
       "393401           4887  Personal Care   \n",
       "295212           3771  Personal Care   \n",
       "171704           2345  Personal Care   \n",
       "283238           3631         Beauty   \n",
       "\n",
       "                                                     name  \\\n",
       "50157   Degree Antiperspirant Deodorant Black+White Pu...   \n",
       "393401  Degree Antiperspirant Deodorant Black+White Pu...   \n",
       "295212  Degree Antiperspirant Deodorant Black+White Pu...   \n",
       "171704  Degree Antiperspirant Deodorant Black+White Pu...   \n",
       "283238  Dove Deep Moisture Body Wash Pump For Dry Skin...   \n",
       "\n",
       "                                              description      price  \\\n",
       "50157   Degree is upgrading to our best formula yet. O...   6.79 USD   \n",
       "393401  Degree is upgrading to our best formula yet. O...   6.79 USD   \n",
       "295212  Degree is upgrading to our best formula yet. O...   6.79 USD   \n",
       "171704  Degree is upgrading to our best formula yet. O...   7.29 USD   \n",
       "283238  Looking for a skin cleanser that helps you get...  14.49 USD   \n",
       "\n",
       "        category_num_tokens  name_num_tokens  description_num_tokens  \n",
       "50157                     2               18                     637  \n",
       "393401                    2               18                     637  \n",
       "295212                    2               18                     637  \n",
       "171704                    2               18                     637  \n",
       "283238                    1               15                     556  "
      ]
     },
     "execution_count": 105,
     "metadata": {},
     "output_type": "execute_result"
    }
   ],
   "source": [
    "menusdf.sort_values(by=\"description_num_tokens\", ascending=False).head()"
   ]
  },
  {
   "cell_type": "code",
   "execution_count": 10,
   "id": "d9c3c904-e26d-45db-afab-b008af065b86",
   "metadata": {},
   "outputs": [
    {
     "data": {
      "text/html": [
       "<div>\n",
       "<style scoped>\n",
       "    .dataframe tbody tr th:only-of-type {\n",
       "        vertical-align: middle;\n",
       "    }\n",
       "\n",
       "    .dataframe tbody tr th {\n",
       "        vertical-align: top;\n",
       "    }\n",
       "\n",
       "    .dataframe thead th {\n",
       "        text-align: right;\n",
       "    }\n",
       "</style>\n",
       "<table border=\"1\" class=\"dataframe\">\n",
       "  <thead>\n",
       "    <tr style=\"text-align: right;\">\n",
       "      <th></th>\n",
       "      <th>restaurant_id</th>\n",
       "      <th>category</th>\n",
       "      <th>name</th>\n",
       "      <th>description</th>\n",
       "      <th>price</th>\n",
       "      <th>category_num_tokens</th>\n",
       "      <th>name_num_tokens</th>\n",
       "      <th>description_num_tokens</th>\n",
       "    </tr>\n",
       "  </thead>\n",
       "  <tbody>\n",
       "    <tr>\n",
       "      <th>50463</th>\n",
       "      <td>688</td>\n",
       "      <td>Electronics &amp; Office</td>\n",
       "      <td>JLab Audio Wireless Earbuds - 1.0 ea</td>\n",
       "      <td>JBUDS PRO WIRELESS SIGNATURE EARBUDS Ready to ...</td>\n",
       "      <td>31.48 USD</td>\n",
       "      <td>3</td>\n",
       "      <td>7</td>\n",
       "      <td>82</td>\n",
       "    </tr>\n",
       "    <tr>\n",
       "      <th>50464</th>\n",
       "      <td>688</td>\n",
       "      <td>Electronics &amp; Office</td>\n",
       "      <td>Infinitive Micro SDHC Memory Card 32GB - 1.0 EA</td>\n",
       "      <td>Stores up to 600 Photos Stores up to 160 minut...</td>\n",
       "      <td>31.48 USD</td>\n",
       "      <td>3</td>\n",
       "      <td>9</td>\n",
       "      <td>60</td>\n",
       "    </tr>\n",
       "    <tr>\n",
       "      <th>50465</th>\n",
       "      <td>688</td>\n",
       "      <td>Pets</td>\n",
       "      <td>PetShoppe Pet Waste Bags 9\" x 12\" - 135.0 ea</td>\n",
       "      <td>15 bags per roll 9 rolls per unit Made in CHINA</td>\n",
       "      <td>9.43 USD</td>\n",
       "      <td>1</td>\n",
       "      <td>10</td>\n",
       "      <td>11</td>\n",
       "    </tr>\n",
       "    <tr>\n",
       "      <th>50466</th>\n",
       "      <td>688</td>\n",
       "      <td>Pets</td>\n",
       "      <td>Blue Buffalo Health Bars with Apples &amp; Yogurt ...</td>\n",
       "      <td>Tasty and healthy the perfect complement to yo...</td>\n",
       "      <td>8.17 USD</td>\n",
       "      <td>1</td>\n",
       "      <td>16</td>\n",
       "      <td>38</td>\n",
       "    </tr>\n",
       "    <tr>\n",
       "      <th>50467</th>\n",
       "      <td>688</td>\n",
       "      <td>Pets</td>\n",
       "      <td>Beggin Strips Dog Treats Bacon - 6.0 oz</td>\n",
       "      <td>Bacon flavored dog treats with real meat as th...</td>\n",
       "      <td>5.55 USD</td>\n",
       "      <td>1</td>\n",
       "      <td>8</td>\n",
       "      <td>86</td>\n",
       "    </tr>\n",
       "    <tr>\n",
       "      <th>50468</th>\n",
       "      <td>688</td>\n",
       "      <td>Pets</td>\n",
       "      <td>PetShoppe Nylon Dog Collar - 1.0 ea</td>\n",
       "      <td>Nylon dog collar for medium dogs. Medium breed...</td>\n",
       "      <td>6.28 USD</td>\n",
       "      <td>1</td>\n",
       "      <td>7</td>\n",
       "      <td>21</td>\n",
       "    </tr>\n",
       "    <tr>\n",
       "      <th>50469</th>\n",
       "      <td>688</td>\n",
       "      <td>Pets</td>\n",
       "      <td>PetShoppe Dog Training Pads - 50.0 ea</td>\n",
       "      <td>3.36 sq ft.(22 in X 22 in) Made in CHINA</td>\n",
       "      <td>28.33 USD</td>\n",
       "      <td>1</td>\n",
       "      <td>7</td>\n",
       "      <td>10</td>\n",
       "    </tr>\n",
       "    <tr>\n",
       "      <th>50470</th>\n",
       "      <td>688</td>\n",
       "      <td>Pets</td>\n",
       "      <td>Tidy Cats 24/7 Performance Cat Litter - 10.0 lb</td>\n",
       "      <td>Your Pet, Our Passion. At our company we're un...</td>\n",
       "      <td>4.5 USD</td>\n",
       "      <td>1</td>\n",
       "      <td>9</td>\n",
       "      <td>77</td>\n",
       "    </tr>\n",
       "    <tr>\n",
       "      <th>50471</th>\n",
       "      <td>688</td>\n",
       "      <td>Pets</td>\n",
       "      <td>PetShoppe Long Leg Tug Dog Toy Assortment - 1....</td>\n",
       "      <td>Tug my legs. walgreens.com. Questions or comme...</td>\n",
       "      <td>7.33 USD</td>\n",
       "      <td>1</td>\n",
       "      <td>13</td>\n",
       "      <td>11</td>\n",
       "    </tr>\n",
       "    <tr>\n",
       "      <th>50472</th>\n",
       "      <td>688</td>\n",
       "      <td>Pets</td>\n",
       "      <td>Iams ProActive Health Cat Food Indoor Weight C...</td>\n",
       "      <td>Helps maintain healthy weight in indoor cats H...</td>\n",
       "      <td>11.53 USD</td>\n",
       "      <td>1</td>\n",
       "      <td>14</td>\n",
       "      <td>74</td>\n",
       "    </tr>\n",
       "  </tbody>\n",
       "</table>\n",
       "</div>"
      ],
      "text/plain": [
       "       restaurant_id              category  \\\n",
       "50463            688  Electronics & Office   \n",
       "50464            688  Electronics & Office   \n",
       "50465            688                  Pets   \n",
       "50466            688                  Pets   \n",
       "50467            688                  Pets   \n",
       "50468            688                  Pets   \n",
       "50469            688                  Pets   \n",
       "50470            688                  Pets   \n",
       "50471            688                  Pets   \n",
       "50472            688                  Pets   \n",
       "\n",
       "                                                    name  \\\n",
       "50463               JLab Audio Wireless Earbuds - 1.0 ea   \n",
       "50464    Infinitive Micro SDHC Memory Card 32GB - 1.0 EA   \n",
       "50465       PetShoppe Pet Waste Bags 9\" x 12\" - 135.0 ea   \n",
       "50466  Blue Buffalo Health Bars with Apples & Yogurt ...   \n",
       "50467            Beggin Strips Dog Treats Bacon - 6.0 oz   \n",
       "50468                PetShoppe Nylon Dog Collar - 1.0 ea   \n",
       "50469              PetShoppe Dog Training Pads - 50.0 ea   \n",
       "50470    Tidy Cats 24/7 Performance Cat Litter - 10.0 lb   \n",
       "50471  PetShoppe Long Leg Tug Dog Toy Assortment - 1....   \n",
       "50472  Iams ProActive Health Cat Food Indoor Weight C...   \n",
       "\n",
       "                                             description      price  \\\n",
       "50463  JBUDS PRO WIRELESS SIGNATURE EARBUDS Ready to ...  31.48 USD   \n",
       "50464  Stores up to 600 Photos Stores up to 160 minut...  31.48 USD   \n",
       "50465    15 bags per roll 9 rolls per unit Made in CHINA   9.43 USD   \n",
       "50466  Tasty and healthy the perfect complement to yo...   8.17 USD   \n",
       "50467  Bacon flavored dog treats with real meat as th...   5.55 USD   \n",
       "50468  Nylon dog collar for medium dogs. Medium breed...   6.28 USD   \n",
       "50469           3.36 sq ft.(22 in X 22 in) Made in CHINA  28.33 USD   \n",
       "50470  Your Pet, Our Passion. At our company we're un...    4.5 USD   \n",
       "50471  Tug my legs. walgreens.com. Questions or comme...   7.33 USD   \n",
       "50472  Helps maintain healthy weight in indoor cats H...  11.53 USD   \n",
       "\n",
       "       category_num_tokens  name_num_tokens  description_num_tokens  \n",
       "50463                    3                7                      82  \n",
       "50464                    3                9                      60  \n",
       "50465                    1               10                      11  \n",
       "50466                    1               16                      38  \n",
       "50467                    1                8                      86  \n",
       "50468                    1                7                      21  \n",
       "50469                    1                7                      10  \n",
       "50470                    1                9                      77  \n",
       "50471                    1               13                      11  \n",
       "50472                    1               14                      74  "
      ]
     },
     "execution_count": 10,
     "metadata": {},
     "output_type": "execute_result"
    }
   ],
   "source": [
    "import random\n",
    "i = random.randint(1, menusdf.shape[0])\n",
    "menusdf.iloc[i: i + 10]"
   ]
  },
  {
   "cell_type": "code",
   "execution_count": 17,
   "id": "48ac2b32-8e3c-4fea-b635-c2acec8f2586",
   "metadata": {},
   "outputs": [
    {
     "name": "stdout",
     "output_type": "stream",
     "text": [
      "['Extra Large Pizza', 'Jumbo Wings', 'Spicy Jumbo Wings', 'Chicken Tenders', 'Snacks', 'Candy', 'Pastries', 'Coffee', 'Energy', 'Juice', 'Soda', 'Tea', 'Water', 'Smoothies', 'Espresso Shots', 'Latte', 'Jtizpuccino', 'Teas', 'Desserts', 'Breakfast (All-Day)']\n"
     ]
    }
   ],
   "source": [
    "print(menusdf.category.unique().tolist()[:20])"
   ]
  },
  {
   "cell_type": "code",
   "execution_count": 70,
   "id": "c9d79abc-6bf0-40a8-ad19-fbdfc6055aae",
   "metadata": {},
   "outputs": [],
   "source": [
    "menusdf[\"concat\"] = menusdf.apply(lambda x: f'{x[\"category\"]} {x[\"name\"]} {x[\"description\"]}', axis=1)"
   ]
  },
  {
   "cell_type": "code",
   "execution_count": 27,
   "id": "46b60004-e2fc-4627-8689-e4b6f3558f24",
   "metadata": {},
   "outputs": [
    {
     "data": {
      "text/plain": [
       "(0, 8)"
      ]
     },
     "execution_count": 27,
     "metadata": {},
     "output_type": "execute_result"
    }
   ],
   "source": [
    "menusdf[menusdf[\"name_num_tokens\"] == 0].shape"
   ]
  },
  {
   "cell_type": "markdown",
   "id": "f986a2b2-8dd5-4413-bcf0-ee8fe9772d9f",
   "metadata": {},
   "source": [
    "## Can we look at cos similarity between all pairs and look at the cos sim distribution \n"
   ]
  },
  {
   "cell_type": "code",
   "execution_count": 33,
   "id": "d05cf8e8-7eb9-473e-9b0c-0cb64297d7b2",
   "metadata": {},
   "outputs": [],
   "source": [
    "from sentence_transformers import SentenceTransformer, util\n",
    "from sentence_transformers.util import semantic_search, cos_sim\n",
    "import torch\n",
    "\n",
    "model_name = \"all-MiniLM-L12-v2\"\n",
    "embedder = SentenceTransformer(\n",
    "    #'msmarco-MiniLM-L-6-v3',\n",
    "    model_name,\n",
    "    use_auth_token=HF_TOKEN,\n",
    ")"
   ]
  },
  {
   "cell_type": "code",
   "execution_count": 31,
   "id": "ff8e89c3-282f-461f-b294-f1a8db8b93cc",
   "metadata": {},
   "outputs": [
    {
     "data": {
      "text/plain": [
       "\u001b[0;31mSignature:\u001b[0m \u001b[0mrandom\u001b[0m\u001b[0;34m.\u001b[0m\u001b[0mchoices\u001b[0m\u001b[0;34m(\u001b[0m\u001b[0mpopulation\u001b[0m\u001b[0;34m,\u001b[0m \u001b[0mweights\u001b[0m\u001b[0;34m=\u001b[0m\u001b[0;32mNone\u001b[0m\u001b[0;34m,\u001b[0m \u001b[0;34m*\u001b[0m\u001b[0;34m,\u001b[0m \u001b[0mcum_weights\u001b[0m\u001b[0;34m=\u001b[0m\u001b[0;32mNone\u001b[0m\u001b[0;34m,\u001b[0m \u001b[0mk\u001b[0m\u001b[0;34m=\u001b[0m\u001b[0;36m1\u001b[0m\u001b[0;34m)\u001b[0m\u001b[0;34m\u001b[0m\u001b[0;34m\u001b[0m\u001b[0m\n",
       "\u001b[0;31mDocstring:\u001b[0m\n",
       "Return a k sized list of population elements chosen with replacement.\n",
       "\n",
       "If the relative weights or cumulative weights are not specified,\n",
       "the selections are made with equal probability.\n",
       "\u001b[0;31mFile:\u001b[0m      ~/opt/miniconda3/envs/pandars310/lib/python3.10/random.py\n",
       "\u001b[0;31mType:\u001b[0m      method"
      ]
     },
     "metadata": {},
     "output_type": "display_data"
    }
   ],
   "source": []
  },
  {
   "cell_type": "code",
   "execution_count": 42,
   "id": "c81c8f2e-6e6f-479d-9c4b-6cfe99edcd94",
   "metadata": {},
   "outputs": [],
   "source": [
    "import numpy as np\n",
    "model = SentenceTransformer(model_name)\n",
    "all_sentences = menusdf[\"concat\"].tolist()\n",
    "sentences = np.random.choice(all_sentences, size=1000, replace=False)\n",
    "# Choose 1000 first try, \n",
    "paraphrases = util.paraphrase_mining(model, sentences)\n"
   ]
  },
  {
   "cell_type": "code",
   "execution_count": 44,
   "id": "fc38a390-7d8f-4627-9f18-a8e303434ca8",
   "metadata": {},
   "outputs": [
    {
     "data": {
      "text/plain": [
       "[1.0000003576278687, 633, 962]"
      ]
     },
     "execution_count": 44,
     "metadata": {},
     "output_type": "execute_result"
    }
   ],
   "source": [
    "paraphrases[0]"
   ]
  },
  {
   "cell_type": "code",
   "execution_count": 50,
   "id": "49951ddb-f141-4b99-8f7d-9d6b365eb4a7",
   "metadata": {},
   "outputs": [
    {
     "name": "stdout",
     "output_type": "stream",
     "text": [
      "Charbroiled Burgers Bacon &amp; Cheese Angus Burger Charbroiled Third Pound 100% black angus beef patty, crisp bacon, melted American cheese, tomato, lettuce, red onion, and mayonnaise, served on a potato bun.\n",
      " \n",
      "Charbroiled Burgers Original Angus Burger Charbroiled Third Pound 100% Angus Beef, melted American cheese, lettuce, tomato, red onions, pickles, mustard, mayonnaise and ketchup, served on a potato bun.  \n",
      " Score: 0.9498\n",
      "\n",
      "\n",
      "Fresh Melts® Ham &amp; Cheese Melt 6 Inch Melt Your cravings called, and we answered with melty goodness and fresh veggies, too. The Ham &amp; Cheese Melt combines Black Forest ham, fresh tomato and American cheese and grills them all up to create an indulgent choice that’s freshly made, too. \n",
      "Fresh Melts® Ham &amp; Cheese Melt Footlong Melt Your cravings called, and we answered with melty goodness and fresh veggies, too. The Ham &amp; Cheese Melt combines Black Forest ham, fresh tomato and American cheese and grills them all up to create an indulgent choice that’s freshly made, too. \n",
      " Score: 0.9455\n",
      "\n",
      "\n",
      "Sandwiches Pizza Sub Footlong Regular Sub Hot outta the oven, it’s the Pizza Sub. Enjoy spicy pepperoni, piled high and layered with melt-a-licious cheese and our signature marinara sauce. Try it on freshly baked Artisan Italian bread today. \n",
      "Sandwiches Pizza Sub 6 Inch Regular Sub Hot outta the oven, it’s the Pizza Sub. Enjoy spicy pepperoni, piled high and layered with melt-a-licious cheese and our signature marinara sauce. Try it on freshly baked Artisan Italian bread today. \n",
      " Score: 0.9409\n",
      "\n",
      "\n",
      "Sandwiches Oven Roasted Turkey Footlong Regular Sub If a classic is what you crave, our thin-sliced Oven Roasted Turkey is the sandwich for you. It’s full of flavor and made to order with your choice of crisp veggies, served on our freshly baked, Hearty Multigrain bread. \n",
      "Sandwiches Oven Roasted Turkey 6 Inch Regular Sub If a classic is what you crave, our thin-sliced Oven Roasted Turkey is the sandwich for you. It’s full of flavor and made to order with your choice of crisp veggies, served on our freshly baked, Hearty Multigrain bread. \n",
      " Score: 0.9365\n",
      "\n",
      "\n",
      "Seafood Scallop with Broccoli Served with rice. \n",
      "Seafood Scallops with Broccoli Served with white rice. \n",
      " Score: 0.9335\n",
      "\n",
      "\n"
     ]
    }
   ],
   "source": [
    "for paraphrase in [row for row in paraphrases if row[0] < .95][:5]:\n",
    "    score, i, j = paraphrase\n",
    "    print(\"{} \\n{} \\n Score: {:.4f}\\n\\n\".format(sentences[i], sentences[j], score))"
   ]
  },
  {
   "cell_type": "markdown",
   "id": "b8879d92-1186-42ce-afc3-54ce9b40c742",
   "metadata": {},
   "source": [
    "## maybe should only look for pairs perhaps with different restaurant ids ? \n",
    "\n"
   ]
  },
  {
   "cell_type": "code",
   "execution_count": 67,
   "id": "7a83c18b-6018-45a1-92aa-74ddf9b40f36",
   "metadata": {},
   "outputs": [
    {
     "data": {
      "text/plain": [
       "[(0, 1), (1, 1), (2, 1), (3, 1), (4, 1)]"
      ]
     },
     "execution_count": 67,
     "metadata": {},
     "output_type": "execute_result"
    }
   ],
   "source": [
    "restaurant_id_map = {i: x for i, x in enumerate(menusdf[\"restaurant_id\"].tolist())}\n",
    "list(restaurant_id_map.items())[:5]"
   ]
  },
  {
   "cell_type": "code",
   "execution_count": 58,
   "id": "c21ca7fc-7745-402f-af03-40c553830199",
   "metadata": {},
   "outputs": [
    {
     "name": "stdout",
     "output_type": "stream",
     "text": [
      "Breakfast Black Forest Ham, Egg &amp; Cheese Wrap Helllooo delicious! Enjoy a Spinach wrap filled with American cheese and a double portion of savory Black Forest ham and egg. What a tasty way to start the day! (restaurant=14)\n",
      "Breakfast Black Forest Ham, Egg &amp; Cheese Wrap Helllooo delicious! Enjoy a Spinach wrap filled with American cheese and a double portion of savory Black Forest ham and egg. What a tasty way to start the day! (restaurant=20)\n",
      " Score: 1.0000\n",
      "\n",
      "\n",
      "Specialties Black Bean Chalupa Supreme® A chewy chalupa shell filled with black beans, reduced-fat sour cream, lettuce, tomatoes, and three-cheese blend. (restaurant=1)\n",
      "Specialties Black Bean Chalupa Supreme® A chewy chalupa shell filled with black beans, reduced-fat sour cream, lettuce, tomatoes, and three-cheese blend. (restaurant=12)\n",
      " Score: 1.0000\n",
      "\n",
      "\n",
      "Allergy Season Claritin 24 Hour Allergy Relief Tablets - 30.0 ea Claritin√Ç¬Æ tablets provide powerful, 24 hour, non-drowsy relief of your worst indoor and outdoor allergy symptoms, including sneezing, runny nose, itchy/watery eyes, itchy throat/nose. Claritin√Ç¬Æ provides relief of symptoms that can be triggered by over 200 different allergens. Claritin√Ç¬Æ is an antihistamine, so it hinders the cascade triggered by allergens. For adults and children ages 6+. One tablet contains 10mg of loratadine. Powerful, 24-hour, non-drowsy indoor and outdoor allergy relief #1 (restaurant=1)\n",
      "Allergy Season Claritin 24 Hour Allergy Relief Tablets - 30.0 ea Claritin√Ç¬Æ tablets provide powerful, 24 hour, non-drowsy relief of your worst indoor and outdoor allergy symptoms, including sneezing, runny nose, itchy/watery eyes, itchy throat/nose. Claritin√Ç¬Æ provides relief of symptoms that can be triggered by over 200 different allergens. Claritin√Ç¬Æ is an antihistamine, so it hinders the cascade triggered by allergens. For adults and children ages 6+. One tablet contains 10mg of loratadine. Powerful, 24-hour, non-drowsy indoor and outdoor allergy relief #1 (restaurant=15)\n",
      " Score: 1.0000\n",
      "\n",
      "\n",
      "Drinks Coca-Cola® Classic  Crisp, refreshing, original taste. (restaurant=14)\n",
      "Drinks Coca-Cola® Classic  Crisp, refreshing, original taste. (restaurant=16)\n",
      " Score: 1.0000\n",
      "\n",
      "\n",
      "Sandwiches Cold Cut Combo® 6 Inch Regular Sub The Cold Cut Combo® sandwich with ham, salami, and bologna (all turkey based) is a long-time Subway® favorite. Yeah. It's that good. (restaurant=21)\n",
      "Sandwiches Cold Cut Combo® 6 Inch Regular Sub The Cold Cut Combo® sandwich with ham, salami, and bologna (all turkey based) is a long-time Subway® favorite. Yeah. It's that good. (restaurant=23)\n",
      " Score: 1.0000\n",
      "\n",
      "\n"
     ]
    }
   ],
   "source": [
    "for paraphrase in [row for row in paraphrases \n",
    "                   if (row[0] < 1\n",
    "                   and (restaurant_id_map[row[1]] != restaurant_id_map[row[2]])) \n",
    "                  ][:5]:\n",
    "    score, i, j = paraphrase\n",
    "    restaurant_id_1, restaurant_id_2 = (restaurant_id_map[i], restaurant_id_map[j])\n",
    "    print(\n",
    "        f\"{sentences[i]} (restaurant={restaurant_id_1})\\n{sentences[j]} (restaurant={restaurant_id_2})\\n Score: {score:.4f}\\n\\n\" \n",
    "    # .format(sentences[i], sentences[j], score)\n",
    "         )"
   ]
  },
  {
   "cell_type": "markdown",
   "id": "7cda0655-90fb-4ea9-9be4-02f5e3483a72",
   "metadata": {},
   "source": [
    "## hmm above did not quite work, \n",
    "maybe they are just different restaurants of same chain ? "
   ]
  },
  {
   "cell_type": "code",
   "execution_count": 66,
   "id": "c174d9c2-a214-44c5-b6df-1d359a9e5197",
   "metadata": {},
   "outputs": [
    {
     "name": "stdout",
     "output_type": "stream",
     "text": [
      "    id  position                           name  \\\n",
      "20  21        43           Magic City Nutrition   \n",
      "22  23        37  Golden Temple Vegetarian Cafe   \n",
      "\n",
      "                                           category  \n",
      "20  Juice and Smoothies, Bubble Tea, Healthy, Fruit  \n",
      "22        Juice and Smoothies, Drinks, Comfort Food  \n",
      "    id  position                                      name  \\\n",
      "13  14        51              Panera (521 Fieldstown Road)   \n",
      "15  16        88  Jeni's Splendid Ice Cream (Pepper Place)   \n",
      "\n",
      "                                             category  \n",
      "13  Breakfast and Brunch, salad, Sandwich, Family ...  \n",
      "15  Ice Cream &amp; Frozen Yogurt, Comfort Food, D...  \n"
     ]
    }
   ],
   "source": [
    "print(restaurantsdf.iloc[[20,22]][[\"id\", \"position\", \"name\", \"category\"]])\n",
    "print(restaurantsdf.iloc[[13, 15]][[\"id\", \"position\", \"name\", \"category\"]])"
   ]
  },
  {
   "cell_type": "markdown",
   "id": "3be23303-a22e-4900-b569-710809f0ac34",
   "metadata": {},
   "source": [
    "## Hmm ok but think  I have to save original row id actually because when I sampled, now that got changed. \n"
   ]
  },
  {
   "cell_type": "markdown",
   "id": "9460707b-40a9-4336-803a-22f91fe16393",
   "metadata": {},
   "source": [
    "ok so this time, let me create that restaurant id map off of the sampled df, "
   ]
  },
  {
   "cell_type": "code",
   "execution_count": 78,
   "id": "e925d62b-d911-4560-8da5-48299bec2fab",
   "metadata": {},
   "outputs": [
    {
     "data": {
      "text/plain": [
       "['Mains Breakfast Burrito Flour tortilla stuffed with scrambled eggs, chorizo, cheddar cheese, tomatoes, onions, poblano peppers and avocado.',\n",
       " 'Picked for you 10\" Northside Cheese Chicago Thin Crust Pizza nan',\n",
       " 'Signature Sides Biscuits nan',\n",
       " 'Shareables &amp; Sides Otis Spunkmeyer Chocolate Chunk Cookie Soft and chewy classic chocolate chunk cookie.',\n",
       " 'Omelets Ham and Cheese Omelet Served with hashbrowns.']"
      ]
     },
     "execution_count": 78,
     "metadata": {},
     "output_type": "execute_result"
    }
   ],
   "source": [
    "sampledf = menusdf.sample(n=1000).reset_index()\n",
    "restaurant_id_map = {i: x for i, x in enumerate(sampledf[\"restaurant_id\"].tolist())}\n",
    "list(restaurant_id_map.items())[:5]\n",
    "sentences = sampledf[\"concat\"].tolist()\n",
    "# sentences = np.random.choice(all_sentences, size=1000, replace=False)\n",
    "# Choose 1000 first try, \n",
    "# paraphrases = util.paraphrase_mining(model, sentences)\n",
    "sentences[:5]"
   ]
  },
  {
   "cell_type": "code",
   "execution_count": 82,
   "id": "304d0619-178b-4cb1-b28c-395075187547",
   "metadata": {},
   "outputs": [
    {
     "data": {
      "text/html": [
       "<div>\n",
       "<style scoped>\n",
       "    .dataframe tbody tr th:only-of-type {\n",
       "        vertical-align: middle;\n",
       "    }\n",
       "\n",
       "    .dataframe tbody tr th {\n",
       "        vertical-align: top;\n",
       "    }\n",
       "\n",
       "    .dataframe thead th {\n",
       "        text-align: right;\n",
       "    }\n",
       "</style>\n",
       "<table border=\"1\" class=\"dataframe\">\n",
       "  <thead>\n",
       "    <tr style=\"text-align: right;\">\n",
       "      <th></th>\n",
       "      <th>id</th>\n",
       "      <th>position</th>\n",
       "      <th>name</th>\n",
       "      <th>score</th>\n",
       "      <th>ratings</th>\n",
       "      <th>category</th>\n",
       "      <th>price_range</th>\n",
       "      <th>full_address</th>\n",
       "      <th>zip_code</th>\n",
       "      <th>lat</th>\n",
       "      <th>lng</th>\n",
       "    </tr>\n",
       "  </thead>\n",
       "  <tbody>\n",
       "    <tr>\n",
       "      <th>0</th>\n",
       "      <td>1</td>\n",
       "      <td>19</td>\n",
       "      <td>PJ Fresh (224 Daniel Payne Drive)</td>\n",
       "      <td>NaN</td>\n",
       "      <td>NaN</td>\n",
       "      <td>Burgers, American, Sandwiches</td>\n",
       "      <td>$</td>\n",
       "      <td>224 Daniel Payne Drive, Birmingham, AL, 35207</td>\n",
       "      <td>35207</td>\n",
       "      <td>33.562365</td>\n",
       "      <td>-86.830703</td>\n",
       "    </tr>\n",
       "    <tr>\n",
       "      <th>1</th>\n",
       "      <td>2</td>\n",
       "      <td>9</td>\n",
       "      <td>J' ti`'z Smoothie-N-Coffee Bar</td>\n",
       "      <td>NaN</td>\n",
       "      <td>NaN</td>\n",
       "      <td>Coffee and Tea, Breakfast and Brunch, Bubble Tea</td>\n",
       "      <td>NaN</td>\n",
       "      <td>1521 Pinson Valley Parkway, Birmingham, AL, 35217</td>\n",
       "      <td>35217</td>\n",
       "      <td>33.583640</td>\n",
       "      <td>-86.773330</td>\n",
       "    </tr>\n",
       "    <tr>\n",
       "      <th>2</th>\n",
       "      <td>3</td>\n",
       "      <td>6</td>\n",
       "      <td>Philly Fresh Cheesesteaks (541-B Graymont Ave)</td>\n",
       "      <td>NaN</td>\n",
       "      <td>NaN</td>\n",
       "      <td>American, Cheesesteak, Sandwiches, Alcohol</td>\n",
       "      <td>$</td>\n",
       "      <td>541-B Graymont Ave, Birmingham, AL, 35204</td>\n",
       "      <td>35204</td>\n",
       "      <td>33.509800</td>\n",
       "      <td>-86.854640</td>\n",
       "    </tr>\n",
       "    <tr>\n",
       "      <th>3</th>\n",
       "      <td>4</td>\n",
       "      <td>17</td>\n",
       "      <td>Papa Murphy's (1580 Montgomery Highway)</td>\n",
       "      <td>NaN</td>\n",
       "      <td>NaN</td>\n",
       "      <td>Pizza</td>\n",
       "      <td>$</td>\n",
       "      <td>1580 Montgomery Highway, Hoover, AL, 35226</td>\n",
       "      <td>35226</td>\n",
       "      <td>33.404439</td>\n",
       "      <td>-86.806614</td>\n",
       "    </tr>\n",
       "    <tr>\n",
       "      <th>4</th>\n",
       "      <td>5</td>\n",
       "      <td>162</td>\n",
       "      <td>Nelson Brothers Cafe (17th St N)</td>\n",
       "      <td>4.7</td>\n",
       "      <td>22.0</td>\n",
       "      <td>Breakfast and Brunch, Burgers, Sandwiches</td>\n",
       "      <td>NaN</td>\n",
       "      <td>314 17th St N, Birmingham, AL, 35203</td>\n",
       "      <td>35203</td>\n",
       "      <td>33.514730</td>\n",
       "      <td>-86.811700</td>\n",
       "    </tr>\n",
       "    <tr>\n",
       "      <th>...</th>\n",
       "      <td>...</td>\n",
       "      <td>...</td>\n",
       "      <td>...</td>\n",
       "      <td>...</td>\n",
       "      <td>...</td>\n",
       "      <td>...</td>\n",
       "      <td>...</td>\n",
       "      <td>...</td>\n",
       "      <td>...</td>\n",
       "      <td>...</td>\n",
       "      <td>...</td>\n",
       "    </tr>\n",
       "    <tr>\n",
       "      <th>4995</th>\n",
       "      <td>4996</td>\n",
       "      <td>12</td>\n",
       "      <td>Legend Larry's</td>\n",
       "      <td>NaN</td>\n",
       "      <td>NaN</td>\n",
       "      <td>Wings, American, Fast Food</td>\n",
       "      <td>$$</td>\n",
       "      <td>921 S 10th St, Manitowoc, WI, 54220</td>\n",
       "      <td>54220</td>\n",
       "      <td>44.089550</td>\n",
       "      <td>-87.660370</td>\n",
       "    </tr>\n",
       "    <tr>\n",
       "      <th>4996</th>\n",
       "      <td>4997</td>\n",
       "      <td>7</td>\n",
       "      <td>Subway (311 N Rapids Rd)</td>\n",
       "      <td>NaN</td>\n",
       "      <td>NaN</td>\n",
       "      <td>Fast Food, Sandwich, American</td>\n",
       "      <td>$</td>\n",
       "      <td>311 N Rapids Rd, Manitowoc, WI, 54220</td>\n",
       "      <td>54220</td>\n",
       "      <td>44.098060</td>\n",
       "      <td>-87.700210</td>\n",
       "    </tr>\n",
       "    <tr>\n",
       "      <th>4997</th>\n",
       "      <td>4998</td>\n",
       "      <td>1</td>\n",
       "      <td>Walgreens (2702 CALUMET AVE)</td>\n",
       "      <td>NaN</td>\n",
       "      <td>NaN</td>\n",
       "      <td>Pharmacy, Convenience, Everyday Essentials, Baby</td>\n",
       "      <td>$</td>\n",
       "      <td>2702 Calumet Ave, Manitowoc, WI, 54220</td>\n",
       "      <td>54220</td>\n",
       "      <td>44.087770</td>\n",
       "      <td>-87.681570</td>\n",
       "    </tr>\n",
       "    <tr>\n",
       "      <th>4998</th>\n",
       "      <td>4999</td>\n",
       "      <td>2</td>\n",
       "      <td>Panda Express (4510 Calumet Ave.)</td>\n",
       "      <td>NaN</td>\n",
       "      <td>NaN</td>\n",
       "      <td>Asian, Chinese, Family Meals</td>\n",
       "      <td>$</td>\n",
       "      <td>4510 Calumet Ave., Manitowoc, WI, 54220</td>\n",
       "      <td>54220</td>\n",
       "      <td>44.074012</td>\n",
       "      <td>-87.705800</td>\n",
       "    </tr>\n",
       "    <tr>\n",
       "      <th>4999</th>\n",
       "      <td>5000</td>\n",
       "      <td>11</td>\n",
       "      <td>Covered Wagon Restaurant</td>\n",
       "      <td>NaN</td>\n",
       "      <td>NaN</td>\n",
       "      <td>Burgers, American, Sandwiches</td>\n",
       "      <td>$$</td>\n",
       "      <td>2013 N Rapids Rd, Manitowoc, WI, 54220</td>\n",
       "      <td>54220</td>\n",
       "      <td>44.122070</td>\n",
       "      <td>-87.708230</td>\n",
       "    </tr>\n",
       "  </tbody>\n",
       "</table>\n",
       "<p>5000 rows × 11 columns</p>\n",
       "</div>"
      ],
      "text/plain": [
       "        id  position                                            name  score  \\\n",
       "0        1        19               PJ Fresh (224 Daniel Payne Drive)    NaN   \n",
       "1        2         9                  J' ti`'z Smoothie-N-Coffee Bar    NaN   \n",
       "2        3         6  Philly Fresh Cheesesteaks (541-B Graymont Ave)    NaN   \n",
       "3        4        17         Papa Murphy's (1580 Montgomery Highway)    NaN   \n",
       "4        5       162                Nelson Brothers Cafe (17th St N)    4.7   \n",
       "...    ...       ...                                             ...    ...   \n",
       "4995  4996        12                                  Legend Larry's    NaN   \n",
       "4996  4997         7                        Subway (311 N Rapids Rd)    NaN   \n",
       "4997  4998         1                    Walgreens (2702 CALUMET AVE)    NaN   \n",
       "4998  4999         2               Panda Express (4510 Calumet Ave.)    NaN   \n",
       "4999  5000        11                        Covered Wagon Restaurant    NaN   \n",
       "\n",
       "      ratings                                          category price_range  \\\n",
       "0         NaN                     Burgers, American, Sandwiches           $   \n",
       "1         NaN  Coffee and Tea, Breakfast and Brunch, Bubble Tea         NaN   \n",
       "2         NaN        American, Cheesesteak, Sandwiches, Alcohol           $   \n",
       "3         NaN                                             Pizza           $   \n",
       "4        22.0         Breakfast and Brunch, Burgers, Sandwiches         NaN   \n",
       "...       ...                                               ...         ...   \n",
       "4995      NaN                        Wings, American, Fast Food          $$   \n",
       "4996      NaN                     Fast Food, Sandwich, American           $   \n",
       "4997      NaN  Pharmacy, Convenience, Everyday Essentials, Baby           $   \n",
       "4998      NaN                      Asian, Chinese, Family Meals           $   \n",
       "4999      NaN                     Burgers, American, Sandwiches          $$   \n",
       "\n",
       "                                           full_address zip_code        lat  \\\n",
       "0         224 Daniel Payne Drive, Birmingham, AL, 35207    35207  33.562365   \n",
       "1     1521 Pinson Valley Parkway, Birmingham, AL, 35217    35217  33.583640   \n",
       "2             541-B Graymont Ave, Birmingham, AL, 35204    35204  33.509800   \n",
       "3            1580 Montgomery Highway, Hoover, AL, 35226    35226  33.404439   \n",
       "4                  314 17th St N, Birmingham, AL, 35203    35203  33.514730   \n",
       "...                                                 ...      ...        ...   \n",
       "4995                921 S 10th St, Manitowoc, WI, 54220    54220  44.089550   \n",
       "4996              311 N Rapids Rd, Manitowoc, WI, 54220    54220  44.098060   \n",
       "4997             2702 Calumet Ave, Manitowoc, WI, 54220    54220  44.087770   \n",
       "4998            4510 Calumet Ave., Manitowoc, WI, 54220    54220  44.074012   \n",
       "4999             2013 N Rapids Rd, Manitowoc, WI, 54220    54220  44.122070   \n",
       "\n",
       "            lng  \n",
       "0    -86.830703  \n",
       "1    -86.773330  \n",
       "2    -86.854640  \n",
       "3    -86.806614  \n",
       "4    -86.811700  \n",
       "...         ...  \n",
       "4995 -87.660370  \n",
       "4996 -87.700210  \n",
       "4997 -87.681570  \n",
       "4998 -87.705800  \n",
       "4999 -87.708230  \n",
       "\n",
       "[5000 rows x 11 columns]"
      ]
     },
     "execution_count": 82,
     "metadata": {},
     "output_type": "execute_result"
    }
   ],
   "source": [
    "restaurants_name_map = {x}"
   ]
  },
  {
   "cell_type": "code",
   "execution_count": 79,
   "id": "0269d0fa-8a5c-4db6-9dff-13db6567828f",
   "metadata": {},
   "outputs": [],
   "source": [
    "paraphrases = util.paraphrase_mining(model, sentences)"
   ]
  },
  {
   "cell_type": "code",
   "execution_count": 81,
   "id": "ee6fb203-5c34-4ddb-9b50-c817285c158b",
   "metadata": {},
   "outputs": [
    {
     "name": "stdout",
     "output_type": "stream",
     "text": [
      "Family Bucket Meals 12 pc. Family Bucket Meal Feeds 5-6. 12 pieces of our freshly prepared World Famous Chicken, available in Original Recipe or Extra Crispy, 3 large sides of your choice, and 6 biscuits. (restaurant=1643)\n",
      "Family Bucket Meals 8 pc. Family Bucket Meal Feeds 3-4. 8 pieces of our freshly prepared World Famous Chicken, available in Original Recipe or Extra Crispy, 2 large sides of your choice, and 4 biscuits. (restaurant=1230)\n",
      " Score: 0.9899\n",
      "\n",
      "\n",
      "Family Bucket Meals 12 pc. Family Bucket Meal Feeds 5-6. 12 pieces of our freshly prepared World Famous Chicken, available in Original Recipe or Extra Crispy, 3 large sides of your choice, and 6 biscuits. (restaurant=1643)\n",
      "Family Bucket Meals 8 pc. Family Bucket Meal Feeds 3-4. 8 pieces of our freshly prepared World Famous Chicken, available in Original Recipe or Extra Crispy, 2 large sides of your choice, and 4 biscuits. (restaurant=872)\n",
      " Score: 0.9899\n",
      "\n",
      "\n",
      "Baby & Kids Huggies Pull-Ups Girls' Potty Training Pants Size 5 - 20.0 ea Pull-Ups potty training pants size 5 (3t-4t) fit toddlers 32-40 lb. (15-18 kg) Fun music designs feature exclusive Minnie Mouse graphics that fade when wet to help your child learn potty training & motivate to stay dry Potty training underwear with refastenable, easy-open sides allow you to customize child's waistband plus keep clothes on for quick checks & changes Training pants with all-around coverage & underwear like fit, with extra absorbency & leak protection where your child needs it most (restaurant=1380)\n",
      "Baby & Kids Huggies Pull-Ups Boys' Potty Training Pants - 17.0 ea Pull-Ups potty training pants size 6 (4t-5t) fit toddlers 38-50 lb. (17-23 kg) Fun music designs feature exclusive Mickey Mouse graphics that fade when wet to help your child learn potty training & motivate to stay dry Potty training underwear with refastenable, easy-open sides allow you to customize child's waistband plus keep clothes on for quick checks & changes Training pants with all-around coverage & underwear like fit, with extra absorbency & leak protection where your child needs it most (restaurant=4819)\n",
      " Score: 0.9782\n",
      "\n",
      "\n",
      "Individual Items Quarter Pounder with Cheese Deluxe nan (restaurant=573)\n",
      "Individual Items Quarter Pounder with Cheese nan (restaurant=3821)\n",
      " Score: 0.9723\n",
      "\n",
      "\n",
      "Individual Items Double Quarter Pounder with Cheese nan (restaurant=1544)\n",
      "Individual Items Quarter Pounder with Cheese nan (restaurant=3821)\n",
      " Score: 0.9717\n",
      "\n",
      "\n"
     ]
    }
   ],
   "source": [
    "# paraphrases_with_restaurant_ids = [x for x in paraphrases ]\n",
    "for paraphrase in [row for row in paraphrases \n",
    "                   if (row[0] < .99\n",
    "                   and (restaurant_id_map[row[1]] != restaurant_id_map[row[2]])) \n",
    "                  ][:5]:\n",
    "    score, i, j = paraphrase\n",
    "    restaurant_id_1, restaurant_id_2 = (restaurant_id_map[i], restaurant_id_map[j])\n",
    "    print(\n",
    "        f\"{sentences[i]} (restaurant={restaurant_id_1})\\n{sentences[j]} (restaurant={restaurant_id_2})\\n Score: {score:.4f}\\n\\n\" \n",
    "    # .format(sentences[i], sentences[j], score)\n",
    "         )"
   ]
  },
  {
   "cell_type": "code",
   "execution_count": 84,
   "id": "57b5114a-e0e4-4311-b96b-77db17609aa5",
   "metadata": {},
   "outputs": [
    {
     "name": "stdout",
     "output_type": "stream",
     "text": [
      "        id  position                             name\n",
      "572    573        48     McDonald's® (2251 REEVES ST)\n",
      "3820  3821         7  McDonald's® (7060 GREEN BAY RD)\n",
      "        id  position                             name\n",
      "1543  1544         1   McDonald's® (Lawe &amp; Sarah)\n",
      "3820  3821         7  McDonald's® (7060 GREEN BAY RD)\n"
     ]
    }
   ],
   "source": [
    "print(restaurantsdf.iloc[[572, 3820]][[\"id\", \"position\", \"name\",]])\n",
    "print(restaurantsdf.iloc[[1543, 3820]][[\"id\", \"position\", \"name\",]])"
   ]
  },
  {
   "cell_type": "markdown",
   "id": "4624c6aa-4f82-42bb-8e01-4fbe8661ab2c",
   "metadata": {},
   "source": [
    "## ok cool, per above, seeing they're mcdonalds so can explain menu similarity\n",
    "So later can try to dedupe perhaps then. "
   ]
  },
  {
   "cell_type": "code",
   "execution_count": 85,
   "id": "62cded44-4bf2-4800-adf4-97bf5ff52206",
   "metadata": {},
   "outputs": [
    {
     "name": "stdout",
     "output_type": "stream",
     "text": [
      "Beverage Pepsi nan (restaurant=1098)\n",
      "Drinks Pepsi® nan (restaurant=3498)\n",
      " Score: 0.9441\n",
      "\n",
      "\n",
      "Drinks &amp; Desserts Iced Tea If you weren’t already craving an ice cold, refreshing beverage…you are now. (restaurant=2444)\n",
      "Drinks &amp; Desserts Soft Drinks If you weren’t already craving an ice cold, refreshing beverage…you are now. (restaurant=1598)\n",
      " Score: 0.9388\n",
      "\n",
      "\n",
      "Beverages Milk nan (restaurant=2678)\n",
      "Beverages Cup of Milk nan (restaurant=2393)\n",
      " Score: 0.9376\n",
      "\n",
      "\n",
      "Beverages Mountain Dew nan (restaurant=2983)\n",
      "Drinks Mountain Dew nan (restaurant=4128)\n",
      " Score: 0.9331\n",
      "\n",
      "\n",
      "Specialties Cheesy Roll Up A warm flour tortilla filled with our 3-cheese blend. Item is lacto-ovo, allowing for dairy &amp; egg consumption. Preparation methods may lead to cross contact with meat. See ta.co for full details. (restaurant=1574)\n",
      "New Cravings Value Menu Cheesy Roll Up A warm flour tortilla filled with our 3-cheese blend. Item is lacto-ovo, allowing for dairy &amp; egg consumption. Preparation methods may lead to cross contact with meat. See ta.co for full details. (restaurant=4418)\n",
      " Score: 0.9310\n",
      "\n",
      "\n"
     ]
    }
   ],
   "source": [
    "# paraphrases_with_restaurant_ids = [x for x in paraphrases ]\n",
    "for paraphrase in [row for row in paraphrases \n",
    "                   if (row[0] < .95\n",
    "                   and (restaurant_id_map[row[1]] != restaurant_id_map[row[2]])) \n",
    "                  ][:5]:\n",
    "    score, i, j = paraphrase\n",
    "    restaurant_id_1, restaurant_id_2 = (restaurant_id_map[i], restaurant_id_map[j])\n",
    "    print(\n",
    "        f\"{sentences[i]} (restaurant={restaurant_id_1})\\n{sentences[j]} (restaurant={restaurant_id_2})\\n Score: {score:.4f}\\n\\n\" \n",
    "    # .format(sentences[i], sentences[j], score)\n",
    "         )"
   ]
  },
  {
   "cell_type": "code",
   "execution_count": null,
   "id": "8dd40c4e-c6a7-4950-9871-15cf695d9d2c",
   "metadata": {},
   "outputs": [],
   "source": [
    "corpus = \n",
    "corpus_embeddings = embedder.encode(corpus, convert_to_tensor=True)"
   ]
  },
  {
   "cell_type": "markdown",
   "id": "e3a349fa-c375-46f8-be67-6a65d3230a56",
   "metadata": {},
   "source": [
    "## Lets embed all the stuff and lets look at how they look within that 2d embedding space \n",
    "Lets use cohere and its dense retrieval "
   ]
  },
  {
   "cell_type": "code",
   "execution_count": 9,
   "id": "cac769c5-ff24-4594-bfd1-ef5d251e34ef",
   "metadata": {},
   "outputs": [],
   "source": [
    "import cohere\n",
    "import umap\n",
    "import altair as alt"
   ]
  },
  {
   "cell_type": "code",
   "execution_count": 10,
   "id": "58d3fa99-cf13-4758-805b-665d253dafc1",
   "metadata": {},
   "outputs": [],
   "source": [
    "from numba.core.errors import NumbaDeprecationWarning, NumbaPendingDeprecationWarning\n",
    "import warnings\n"
   ]
  },
  {
   "cell_type": "code",
   "execution_count": 11,
   "id": "934c491b-664e-4fa5-855a-512a413e0be6",
   "metadata": {},
   "outputs": [],
   "source": [
    "from jovyan_utils import umap_plot"
   ]
  },
  {
   "cell_type": "code",
   "execution_count": 12,
   "id": "c5a04e57-8c94-4b42-a55e-e0d2885a3cf8",
   "metadata": {},
   "outputs": [
    {
     "name": "stdout",
     "output_type": "stream",
     "text": [
      "Query:\n",
      " Everybody Loves Raynaud \n",
      "\n",
      "Everybody Loves cold fingers (Score: 0.4929)\n",
      "Everybody Loves Numbness (Score: 0.4379)\n",
      "blocked flow of blood in fingers (Score: 0.4075)\n",
      "Everybody Loves Riynudno (Score: 0.3814)\n",
      "Everybody Loves Raymond (Score: 0.3706)\n",
      "blood vessels go into a temporary spasm (Score: 0.3055)\n",
      "Everybody Loves Reindeer (Score: 0.2809)\n"
     ]
    }
   ],
   "source": [
    "\n",
    "\n",
    "corpus = [\"Everybody Loves Raymond\",\n",
    "         \"blood vessels go into a temporary spasm\",\n",
    "         \"blocked flow of blood in fingers\",\n",
    "         \"Everybody Loves Numbness\",\n",
    "         \"Everybody Loves cold fingers\",\n",
    "         \"Everybody Loves Reindeer\",\n",
    "         \"Everybody Loves Riynudno\"]\n",
    "corpus_embeddings = embedder.encode(corpus, convert_to_tensor=True)\n",
    "\n",
    "query = \"Everybody Loves Raynaud\"\n",
    "query_embedding = embedder.encode(query, convert_to_tensor=True)\n",
    "\n",
    "cos_scores = cos_sim(query_embedding, corpus_embeddings)[0]\n",
    "top_results = torch.topk(cos_scores, k=7)\n",
    "\n",
    "cos_scores, top_results\n",
    "\n",
    "print(\"Query:\\n\", query, \"\\n\")\n",
    "\n",
    "for score, idx in zip(top_results[0], top_results[1]):\n",
    "    print(corpus[idx].strip(), \"(Score: {:.4f})\".format(score))\n"
   ]
  },
  {
   "cell_type": "code",
   "execution_count": 13,
   "id": "64a97bde-dc3a-44ae-9bbb-9c0733fbca12",
   "metadata": {},
   "outputs": [
    {
     "data": {
      "text/plain": [
       "tensor([[-0.0386, -0.0912, -0.0590,  ...,  0.0342,  0.0336, -0.0264],\n",
       "        [-0.0397,  0.0058,  0.0856,  ...,  0.0248,  0.0532, -0.0036],\n",
       "        [-0.0416, -0.0047,  0.0063,  ..., -0.0189, -0.0552,  0.0395],\n",
       "        ...,\n",
       "        [-0.1101, -0.0767, -0.0392,  ..., -0.0364, -0.0638,  0.0770],\n",
       "        [-0.0927,  0.0005,  0.0201,  ..., -0.0289,  0.0254, -0.0414],\n",
       "        [-0.1215, -0.1445, -0.0009,  ...,  0.0009,  0.0678, -0.0409]])"
      ]
     },
     "execution_count": 13,
     "metadata": {},
     "output_type": "execute_result"
    }
   ],
   "source": [
    "corpus_embeddings"
   ]
  },
  {
   "cell_type": "code",
   "execution_count": 14,
   "id": "31ec69e4-8124-44e7-baad-80225bae71d0",
   "metadata": {},
   "outputs": [],
   "source": [
    "emb = corpus_embeddings.tolist()"
   ]
  },
  {
   "cell_type": "code",
   "execution_count": null,
   "id": "d1f5d3cc-519c-4057-9aea-868180efd0b1",
   "metadata": {},
   "outputs": [
    {
     "name": "stderr",
     "output_type": "stream",
     "text": [
      "OMP: Info #276: omp_set_nested routine deprecated, please use omp_set_max_active_levels instead.\n"
     ]
    }
   ],
   "source": [
    "reducer = umap.UMAP(n_neighbors=2)\n",
    "umap_embeds = reducer.fit_transform(emb)\n"
   ]
  },
  {
   "cell_type": "code",
   "execution_count": null,
   "id": "77244d04-53eb-48a2-a4e7-e67f7d148498",
   "metadata": {},
   "outputs": [
    {
     "name": "stderr",
     "output_type": "stream",
     "text": [
      "OMP: Info #276: omp_set_nested routine deprecated, please use omp_set_max_active_levels instead.\n"
     ]
    }
   ],
   "source": [
    "sentences = pd.DataFrame({\"text\": corpus})\n",
    "chart = umap_plot(sentences, corpus_embeddings)\n",
    "chart.interactive()"
   ]
  },
  {
   "cell_type": "code",
   "execution_count": null,
   "id": "671f17ce-55e6-48e8-bf0c-745aac2c6ec6",
   "metadata": {},
   "outputs": [],
   "source": [
    "corpus_embeddings[:, :3]\n"
   ]
  },
  {
   "cell_type": "code",
   "execution_count": null,
   "id": "ac18bd90-6529-4364-be02-8ca5993d49e6",
   "metadata": {},
   "outputs": [],
   "source": []
  }
 ],
 "metadata": {
  "kernelspec": {
   "display_name": "Python 3 (ipykernel)",
   "language": "python",
   "name": "python3"
  },
  "language_info": {
   "codemirror_mode": {
    "name": "ipython",
    "version": 3
   },
   "file_extension": ".py",
   "mimetype": "text/x-python",
   "name": "python",
   "nbconvert_exporter": "python",
   "pygments_lexer": "ipython3",
   "version": "3.10.0"
  }
 },
 "nbformat": 4,
 "nbformat_minor": 5
}
